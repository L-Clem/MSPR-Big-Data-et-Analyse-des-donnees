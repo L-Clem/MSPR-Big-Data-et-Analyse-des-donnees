{
 "cells": [
  {
   "cell_type": "code",
   "execution_count": 1,
   "id": "41816150",
   "metadata": {},
   "outputs": [],
   "source": [
    "import pandas as pd"
   ]
  },
  {
   "cell_type": "code",
   "execution_count": 2,
   "id": "efa8cac5",
   "metadata": {},
   "outputs": [],
   "source": [
    "df_infla =  pd.read_excel('inflation.xlsx')\n",
    "departement_code= [16,17,19,23,24,33,40,47,64,59,86,87]"
   ]
  },
  {
   "cell_type": "code",
   "execution_count": 3,
   "id": "eb9b8ca5",
   "metadata": {},
   "outputs": [],
   "source": [
    "years = df_infla[\"Année\"]\n",
    "inflation = df_infla[\"Taux d'inflation\"]\n",
    "df_infla_clean =  pd.DataFrame(columns=['Année','Code du département',\"Taux inflation\"])"
   ]
  },
  {
   "cell_type": "code",
   "execution_count": 4,
   "id": "6c744a21",
   "metadata": {},
   "outputs": [
    {
     "data": {
      "text/html": [
       "<div>\n",
       "<style scoped>\n",
       "    .dataframe tbody tr th:only-of-type {\n",
       "        vertical-align: middle;\n",
       "    }\n",
       "\n",
       "    .dataframe tbody tr th {\n",
       "        vertical-align: top;\n",
       "    }\n",
       "\n",
       "    .dataframe thead th {\n",
       "        text-align: right;\n",
       "    }\n",
       "</style>\n",
       "<table border=\"1\" class=\"dataframe\">\n",
       "  <thead>\n",
       "    <tr style=\"text-align: right;\">\n",
       "      <th></th>\n",
       "      <th>Année</th>\n",
       "      <th>Code du département</th>\n",
       "      <th>Taux inflation</th>\n",
       "    </tr>\n",
       "  </thead>\n",
       "  <tbody>\n",
       "    <tr>\n",
       "      <th>0</th>\n",
       "      <td>2023</td>\n",
       "      <td>16</td>\n",
       "      <td>4.9</td>\n",
       "    </tr>\n",
       "    <tr>\n",
       "      <th>1</th>\n",
       "      <td>2023</td>\n",
       "      <td>17</td>\n",
       "      <td>4.9</td>\n",
       "    </tr>\n",
       "    <tr>\n",
       "      <th>2</th>\n",
       "      <td>2023</td>\n",
       "      <td>19</td>\n",
       "      <td>4.9</td>\n",
       "    </tr>\n",
       "    <tr>\n",
       "      <th>3</th>\n",
       "      <td>2023</td>\n",
       "      <td>23</td>\n",
       "      <td>4.9</td>\n",
       "    </tr>\n",
       "    <tr>\n",
       "      <th>4</th>\n",
       "      <td>2023</td>\n",
       "      <td>24</td>\n",
       "      <td>4.9</td>\n",
       "    </tr>\n",
       "    <tr>\n",
       "      <th>...</th>\n",
       "      <td>...</td>\n",
       "      <td>...</td>\n",
       "      <td>...</td>\n",
       "    </tr>\n",
       "    <tr>\n",
       "      <th>391</th>\n",
       "      <td>1991</td>\n",
       "      <td>47</td>\n",
       "      <td>3.2</td>\n",
       "    </tr>\n",
       "    <tr>\n",
       "      <th>392</th>\n",
       "      <td>1991</td>\n",
       "      <td>64</td>\n",
       "      <td>3.2</td>\n",
       "    </tr>\n",
       "    <tr>\n",
       "      <th>393</th>\n",
       "      <td>1991</td>\n",
       "      <td>59</td>\n",
       "      <td>3.2</td>\n",
       "    </tr>\n",
       "    <tr>\n",
       "      <th>394</th>\n",
       "      <td>1991</td>\n",
       "      <td>86</td>\n",
       "      <td>3.2</td>\n",
       "    </tr>\n",
       "    <tr>\n",
       "      <th>395</th>\n",
       "      <td>1991</td>\n",
       "      <td>87</td>\n",
       "      <td>3.2</td>\n",
       "    </tr>\n",
       "  </tbody>\n",
       "</table>\n",
       "<p>396 rows × 3 columns</p>\n",
       "</div>"
      ],
      "text/plain": [
       "     Année  Code du département  Taux inflation\n",
       "0     2023                   16             4.9\n",
       "1     2023                   17             4.9\n",
       "2     2023                   19             4.9\n",
       "3     2023                   23             4.9\n",
       "4     2023                   24             4.9\n",
       "..     ...                  ...             ...\n",
       "391   1991                   47             3.2\n",
       "392   1991                   64             3.2\n",
       "393   1991                   59             3.2\n",
       "394   1991                   86             3.2\n",
       "395   1991                   87             3.2\n",
       "\n",
       "[396 rows x 3 columns]"
      ]
     },
     "execution_count": 4,
     "metadata": {},
     "output_type": "execute_result"
    }
   ],
   "source": [
    "for i in range(len(years)):\n",
    "    for y in range (len(departement_code)):\n",
    "        row = {\"Année\":years[i],\"Code du département\":departement_code[y],\"Taux inflation\":inflation[i]}\n",
    "        df_infla_clean.loc[len(df_infla_clean)] = row\n",
    "df_infla_clean"
   ]
  },
  {
   "cell_type": "code",
   "execution_count": 5,
   "id": "2c9f102b",
   "metadata": {},
   "outputs": [],
   "source": [
    "df_infla_clean.to_csv(\"inflation.csv\")"
   ]
  }
 ],
 "metadata": {
  "kernelspec": {
   "display_name": "Python 3 (ipykernel)",
   "language": "python",
   "name": "python3"
  },
  "language_info": {
   "codemirror_mode": {
    "name": "ipython",
    "version": 3
   },
   "file_extension": ".py",
   "mimetype": "text/x-python",
   "name": "python",
   "nbconvert_exporter": "python",
   "pygments_lexer": "ipython3",
   "version": "3.10.9"
  }
 },
 "nbformat": 4,
 "nbformat_minor": 5
}

{
 "cells": [
  {
   "cell_type": "code",
   "execution_count": 53,
   "id": "0193af9b",
   "metadata": {
    "ExecuteTime": {
     "end_time": "2024-03-20T08:11:28.258358500Z",
     "start_time": "2024-03-20T08:11:28.233245200Z"
    }
   },
   "outputs": [],
   "source": [
    "import pandas as pd"
   ]
  },
  {
   "cell_type": "code",
   "execution_count": 54,
   "id": "6c3c7a73",
   "metadata": {
    "ExecuteTime": {
     "end_time": "2024-03-20T08:11:28.314380900Z",
     "start_time": "2024-03-20T08:11:28.249245700Z"
    }
   },
   "outputs": [
    {
     "data": {
      "text/plain": "       Periode  Taux de chômage Code\n0   2023-03-01              7.2   SD\n1   2023-02-01              7.0    A\n2   2023-01-01              6.9    A\n3   2022-04-01              7.0    A\n4   2022-03-01              7.0    A\n..         ...              ...  ...\n162 1983-01-01              7.0    A\n163 1982-04-01              7.0    A\n164 1982-03-01              7.0    A\n165 1982-02-01              6.8    A\n166 1982-01-01              6.7    A\n\n[167 rows x 3 columns]",
      "text/html": "<div>\n<style scoped>\n    .dataframe tbody tr th:only-of-type {\n        vertical-align: middle;\n    }\n\n    .dataframe tbody tr th {\n        vertical-align: top;\n    }\n\n    .dataframe thead th {\n        text-align: right;\n    }\n</style>\n<table border=\"1\" class=\"dataframe\">\n  <thead>\n    <tr style=\"text-align: right;\">\n      <th></th>\n      <th>Periode</th>\n      <th>Taux de chômage</th>\n      <th>Code</th>\n    </tr>\n  </thead>\n  <tbody>\n    <tr>\n      <th>0</th>\n      <td>2023-03-01</td>\n      <td>7.2</td>\n      <td>SD</td>\n    </tr>\n    <tr>\n      <th>1</th>\n      <td>2023-02-01</td>\n      <td>7.0</td>\n      <td>A</td>\n    </tr>\n    <tr>\n      <th>2</th>\n      <td>2023-01-01</td>\n      <td>6.9</td>\n      <td>A</td>\n    </tr>\n    <tr>\n      <th>3</th>\n      <td>2022-04-01</td>\n      <td>7.0</td>\n      <td>A</td>\n    </tr>\n    <tr>\n      <th>4</th>\n      <td>2022-03-01</td>\n      <td>7.0</td>\n      <td>A</td>\n    </tr>\n    <tr>\n      <th>...</th>\n      <td>...</td>\n      <td>...</td>\n      <td>...</td>\n    </tr>\n    <tr>\n      <th>162</th>\n      <td>1983-01-01</td>\n      <td>7.0</td>\n      <td>A</td>\n    </tr>\n    <tr>\n      <th>163</th>\n      <td>1982-04-01</td>\n      <td>7.0</td>\n      <td>A</td>\n    </tr>\n    <tr>\n      <th>164</th>\n      <td>1982-03-01</td>\n      <td>7.0</td>\n      <td>A</td>\n    </tr>\n    <tr>\n      <th>165</th>\n      <td>1982-02-01</td>\n      <td>6.8</td>\n      <td>A</td>\n    </tr>\n    <tr>\n      <th>166</th>\n      <td>1982-01-01</td>\n      <td>6.7</td>\n      <td>A</td>\n    </tr>\n  </tbody>\n</table>\n<p>167 rows × 3 columns</p>\n</div>"
     },
     "execution_count": 54,
     "metadata": {},
     "output_type": "execute_result"
    }
   ],
   "source": [
    "column_names = [\"Periode\", \"Taux de chômage\", \"Code\"]\n",
    "\n",
    "df_taux_chom = pd.read_csv('taux_chom_1982_2023_france.csv', delimiter=';', header=3, names=column_names)\n",
    "\n",
    "df_taux_chom['Periode'] = pd.to_datetime(df_taux_chom['Periode'], format='%Y-T%m')\n",
    "\n",
    "\n",
    "df_taux_chom['Taux de chômage'] = df_taux_chom['Taux de chômage'].astype(float)\n",
    "\n",
    "\n",
    "df_taux_chom"
   ]
  },
  {
   "cell_type": "code",
   "execution_count": 55,
   "id": "8efcd1cb",
   "metadata": {
    "ExecuteTime": {
     "end_time": "2024-03-20T08:11:28.314380900Z",
     "start_time": "2024-03-20T08:11:28.276359700Z"
    }
   },
   "outputs": [],
   "source": [
    "df_taux_chom_filtered = df_taux_chom[df_taux_chom['Periode'].dt.year >= 1994]\n",
    "\n",
    "df_taux_chom_filtered.to_csv('taux_chom.csv', index=False)"
   ]
  },
  {
   "cell_type": "code",
   "execution_count": 55,
   "id": "7955e705",
   "metadata": {
    "ExecuteTime": {
     "end_time": "2024-03-20T08:11:28.314380900Z",
     "start_time": "2024-03-20T08:11:28.292357900Z"
    }
   },
   "outputs": [],
   "source": []
  },
  {
   "cell_type": "code",
   "execution_count": 55,
   "id": "c1de6c11",
   "metadata": {
    "ExecuteTime": {
     "end_time": "2024-03-20T08:11:28.351380300Z",
     "start_time": "2024-03-20T08:11:28.310379400Z"
    }
   },
   "outputs": [],
   "source": []
  },
  {
   "cell_type": "code",
   "execution_count": 55,
   "id": "770c1243",
   "metadata": {
    "ExecuteTime": {
     "end_time": "2024-03-20T08:11:28.382361200Z",
     "start_time": "2024-03-20T08:11:28.324380100Z"
    }
   },
   "outputs": [],
   "source": []
  },
  {
   "cell_type": "code",
   "execution_count": 55,
   "id": "9c31770a",
   "metadata": {
    "ExecuteTime": {
     "end_time": "2024-03-20T08:11:28.382361200Z",
     "start_time": "2024-03-20T08:11:28.340379400Z"
    }
   },
   "outputs": [],
   "source": []
  },
  {
   "cell_type": "code",
   "execution_count": 55,
   "id": "d3ea472e",
   "metadata": {
    "ExecuteTime": {
     "end_time": "2024-03-20T08:11:28.444356800Z",
     "start_time": "2024-03-20T08:11:28.356358800Z"
    }
   },
   "outputs": [],
   "source": []
  },
  {
   "cell_type": "code",
   "execution_count": 55,
   "id": "5fee69c4",
   "metadata": {
    "ExecuteTime": {
     "end_time": "2024-03-20T08:11:28.470380300Z",
     "start_time": "2024-03-20T08:11:28.370357300Z"
    }
   },
   "outputs": [],
   "source": []
  },
  {
   "cell_type": "code",
   "execution_count": 55,
   "id": "0ba271cb",
   "metadata": {
    "ExecuteTime": {
     "end_time": "2024-03-20T08:11:28.471381100Z",
     "start_time": "2024-03-20T08:11:28.387384600Z"
    }
   },
   "outputs": [],
   "source": []
  },
  {
   "cell_type": "code",
   "execution_count": 55,
   "id": "ba5d0596",
   "metadata": {
    "ExecuteTime": {
     "end_time": "2024-03-20T08:11:28.525359500Z",
     "start_time": "2024-03-20T08:11:28.403357900Z"
    }
   },
   "outputs": [],
   "source": []
  }
 ],
 "metadata": {
  "kernelspec": {
   "display_name": "Python 3 (ipykernel)",
   "language": "python",
   "name": "python3"
  },
  "language_info": {
   "codemirror_mode": {
    "name": "ipython",
    "version": 3
   },
   "file_extension": ".py",
   "mimetype": "text/x-python",
   "name": "python",
   "nbconvert_exporter": "python",
   "pygments_lexer": "ipython3",
   "version": "3.10.6"
  }
 },
 "nbformat": 4,
 "nbformat_minor": 5
}

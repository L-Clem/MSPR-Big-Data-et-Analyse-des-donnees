{
 "cells": [
  {
   "cell_type": "code",
   "execution_count": 34,
   "id": "0193af9b",
   "metadata": {
    "ExecuteTime": {
     "end_time": "2024-03-20T11:06:54.013962200Z",
     "start_time": "2024-03-20T11:06:53.926964200Z"
    }
   },
   "outputs": [],
   "source": [
    "import pandas as pd"
   ]
  },
  {
   "cell_type": "code",
   "execution_count": 35,
   "id": "6c3c7a73",
   "metadata": {
    "ExecuteTime": {
     "end_time": "2024-03-20T11:06:54.058962100Z",
     "start_time": "2024-03-20T11:06:53.938987400Z"
    }
   },
   "outputs": [
    {
     "data": {
      "text/plain": "       Periode  Taux de chômage Code\n0   2023-03-01              7.2   SD\n1   2023-02-01              7.0    A\n2   2023-01-01              6.9    A\n3   2022-04-01              7.0    A\n4   2022-03-01              7.0    A\n..         ...              ...  ...\n162 1983-01-01              7.0    A\n163 1982-04-01              7.0    A\n164 1982-03-01              7.0    A\n165 1982-02-01              6.8    A\n166 1982-01-01              6.7    A\n\n[167 rows x 3 columns]",
      "text/html": "<div>\n<style scoped>\n    .dataframe tbody tr th:only-of-type {\n        vertical-align: middle;\n    }\n\n    .dataframe tbody tr th {\n        vertical-align: top;\n    }\n\n    .dataframe thead th {\n        text-align: right;\n    }\n</style>\n<table border=\"1\" class=\"dataframe\">\n  <thead>\n    <tr style=\"text-align: right;\">\n      <th></th>\n      <th>Periode</th>\n      <th>Taux de chômage</th>\n      <th>Code</th>\n    </tr>\n  </thead>\n  <tbody>\n    <tr>\n      <th>0</th>\n      <td>2023-03-01</td>\n      <td>7.2</td>\n      <td>SD</td>\n    </tr>\n    <tr>\n      <th>1</th>\n      <td>2023-02-01</td>\n      <td>7.0</td>\n      <td>A</td>\n    </tr>\n    <tr>\n      <th>2</th>\n      <td>2023-01-01</td>\n      <td>6.9</td>\n      <td>A</td>\n    </tr>\n    <tr>\n      <th>3</th>\n      <td>2022-04-01</td>\n      <td>7.0</td>\n      <td>A</td>\n    </tr>\n    <tr>\n      <th>4</th>\n      <td>2022-03-01</td>\n      <td>7.0</td>\n      <td>A</td>\n    </tr>\n    <tr>\n      <th>...</th>\n      <td>...</td>\n      <td>...</td>\n      <td>...</td>\n    </tr>\n    <tr>\n      <th>162</th>\n      <td>1983-01-01</td>\n      <td>7.0</td>\n      <td>A</td>\n    </tr>\n    <tr>\n      <th>163</th>\n      <td>1982-04-01</td>\n      <td>7.0</td>\n      <td>A</td>\n    </tr>\n    <tr>\n      <th>164</th>\n      <td>1982-03-01</td>\n      <td>7.0</td>\n      <td>A</td>\n    </tr>\n    <tr>\n      <th>165</th>\n      <td>1982-02-01</td>\n      <td>6.8</td>\n      <td>A</td>\n    </tr>\n    <tr>\n      <th>166</th>\n      <td>1982-01-01</td>\n      <td>6.7</td>\n      <td>A</td>\n    </tr>\n  </tbody>\n</table>\n<p>167 rows × 3 columns</p>\n</div>"
     },
     "execution_count": 35,
     "metadata": {},
     "output_type": "execute_result"
    }
   ],
   "source": [
    "column_names = [\"Periode\", \"Taux de chômage\", \"Code\"]\n",
    "\n",
    "df_taux_chom = pd.read_csv('taux_chom_1982_2023_france.csv', delimiter=';', header=3, names=column_names)\n",
    "\n",
    "df_taux_chom['Periode'] = pd.to_datetime(df_taux_chom['Periode'], format='%Y-T%m')\n",
    "\n",
    "\n",
    "df_taux_chom['Taux de chômage'] = df_taux_chom['Taux de chômage'].astype(float)\n",
    "\n",
    "\n",
    "df_taux_chom"
   ]
  },
  {
   "cell_type": "code",
   "execution_count": 36,
   "id": "8efcd1cb",
   "metadata": {
    "ExecuteTime": {
     "end_time": "2024-03-20T11:06:54.058962100Z",
     "start_time": "2024-03-20T11:06:53.984964700Z"
    }
   },
   "outputs": [],
   "source": [
    "df_taux_chom_filtered = df_taux_chom[df_taux_chom['Periode'].dt.year >= 1994]\n"
   ]
  },
  {
   "cell_type": "code",
   "execution_count": 37,
   "outputs": [],
   "source": [
    "\n",
    "df_taux_chom['Annee'] = df_taux_chom_filtered['Periode'].dt.year\n",
    "df_yearly_avg = df_taux_chom.groupby('Annee').agg({'Taux de chômage': 'mean'}).reset_index()\n",
    "\n",
    "\n",
    "df_yearly_avg.rename(columns={'Periode': 'annee'}, inplace=True)\n",
    "\n",
    "df_yearly_avg_sorted = df_yearly_avg.sort_values(by='Annee', ascending=False)"
   ],
   "metadata": {
    "collapsed": false,
    "ExecuteTime": {
     "end_time": "2024-03-20T11:06:54.058962100Z",
     "start_time": "2024-03-20T11:06:53.989964700Z"
    }
   },
   "id": "3ac1b9500b05fd1b"
  },
  {
   "cell_type": "code",
   "execution_count": 38,
   "outputs": [
    {
     "data": {
      "text/plain": "     Annee  Taux de chômage\n29  2023.0         7.033333\n28  2022.0         7.100000\n27  2021.0         7.675000\n26  2020.0         7.850000\n25  2019.0         8.175000\n24  2018.0         8.725000\n23  2017.0         9.100000\n22  2016.0         9.750000\n21  2015.0        10.025000\n20  2014.0         9.900000\n19  2013.0         9.950000\n18  2012.0         9.425000\n17  2011.0         8.850000\n16  2010.0         8.900000\n15  2009.0         8.775000\n14  2008.0         7.100000\n13  2007.0         7.700000\n12  2006.0         8.500000\n11  2005.0         8.550000\n10  2004.0         8.500000\n9   2003.0         8.125000\n8   2002.0         7.525000\n7   2001.0         7.350000\n6   2000.0         8.175000\n5   1999.0         9.550000\n4   1998.0         9.800000\n3   1997.0        10.250000\n2   1996.0        10.100000\n1   1995.0         9.625000\n0   1994.0        10.275000",
      "text/html": "<div>\n<style scoped>\n    .dataframe tbody tr th:only-of-type {\n        vertical-align: middle;\n    }\n\n    .dataframe tbody tr th {\n        vertical-align: top;\n    }\n\n    .dataframe thead th {\n        text-align: right;\n    }\n</style>\n<table border=\"1\" class=\"dataframe\">\n  <thead>\n    <tr style=\"text-align: right;\">\n      <th></th>\n      <th>Annee</th>\n      <th>Taux de chômage</th>\n    </tr>\n  </thead>\n  <tbody>\n    <tr>\n      <th>29</th>\n      <td>2023.0</td>\n      <td>7.033333</td>\n    </tr>\n    <tr>\n      <th>28</th>\n      <td>2022.0</td>\n      <td>7.100000</td>\n    </tr>\n    <tr>\n      <th>27</th>\n      <td>2021.0</td>\n      <td>7.675000</td>\n    </tr>\n    <tr>\n      <th>26</th>\n      <td>2020.0</td>\n      <td>7.850000</td>\n    </tr>\n    <tr>\n      <th>25</th>\n      <td>2019.0</td>\n      <td>8.175000</td>\n    </tr>\n    <tr>\n      <th>24</th>\n      <td>2018.0</td>\n      <td>8.725000</td>\n    </tr>\n    <tr>\n      <th>23</th>\n      <td>2017.0</td>\n      <td>9.100000</td>\n    </tr>\n    <tr>\n      <th>22</th>\n      <td>2016.0</td>\n      <td>9.750000</td>\n    </tr>\n    <tr>\n      <th>21</th>\n      <td>2015.0</td>\n      <td>10.025000</td>\n    </tr>\n    <tr>\n      <th>20</th>\n      <td>2014.0</td>\n      <td>9.900000</td>\n    </tr>\n    <tr>\n      <th>19</th>\n      <td>2013.0</td>\n      <td>9.950000</td>\n    </tr>\n    <tr>\n      <th>18</th>\n      <td>2012.0</td>\n      <td>9.425000</td>\n    </tr>\n    <tr>\n      <th>17</th>\n      <td>2011.0</td>\n      <td>8.850000</td>\n    </tr>\n    <tr>\n      <th>16</th>\n      <td>2010.0</td>\n      <td>8.900000</td>\n    </tr>\n    <tr>\n      <th>15</th>\n      <td>2009.0</td>\n      <td>8.775000</td>\n    </tr>\n    <tr>\n      <th>14</th>\n      <td>2008.0</td>\n      <td>7.100000</td>\n    </tr>\n    <tr>\n      <th>13</th>\n      <td>2007.0</td>\n      <td>7.700000</td>\n    </tr>\n    <tr>\n      <th>12</th>\n      <td>2006.0</td>\n      <td>8.500000</td>\n    </tr>\n    <tr>\n      <th>11</th>\n      <td>2005.0</td>\n      <td>8.550000</td>\n    </tr>\n    <tr>\n      <th>10</th>\n      <td>2004.0</td>\n      <td>8.500000</td>\n    </tr>\n    <tr>\n      <th>9</th>\n      <td>2003.0</td>\n      <td>8.125000</td>\n    </tr>\n    <tr>\n      <th>8</th>\n      <td>2002.0</td>\n      <td>7.525000</td>\n    </tr>\n    <tr>\n      <th>7</th>\n      <td>2001.0</td>\n      <td>7.350000</td>\n    </tr>\n    <tr>\n      <th>6</th>\n      <td>2000.0</td>\n      <td>8.175000</td>\n    </tr>\n    <tr>\n      <th>5</th>\n      <td>1999.0</td>\n      <td>9.550000</td>\n    </tr>\n    <tr>\n      <th>4</th>\n      <td>1998.0</td>\n      <td>9.800000</td>\n    </tr>\n    <tr>\n      <th>3</th>\n      <td>1997.0</td>\n      <td>10.250000</td>\n    </tr>\n    <tr>\n      <th>2</th>\n      <td>1996.0</td>\n      <td>10.100000</td>\n    </tr>\n    <tr>\n      <th>1</th>\n      <td>1995.0</td>\n      <td>9.625000</td>\n    </tr>\n    <tr>\n      <th>0</th>\n      <td>1994.0</td>\n      <td>10.275000</td>\n    </tr>\n  </tbody>\n</table>\n</div>"
     },
     "execution_count": 38,
     "metadata": {},
     "output_type": "execute_result"
    }
   ],
   "source": [
    "df_yearly_avg_sorted"
   ],
   "metadata": {
    "collapsed": false,
    "ExecuteTime": {
     "end_time": "2024-03-20T11:06:54.060961Z",
     "start_time": "2024-03-20T11:06:54.003966200Z"
    }
   },
   "id": "6e529f2196524edc"
  },
  {
   "cell_type": "code",
   "execution_count": 39,
   "id": "c1de6c11",
   "metadata": {
    "ExecuteTime": {
     "end_time": "2024-03-20T11:06:54.060961Z",
     "start_time": "2024-03-20T11:06:54.033962900Z"
    }
   },
   "outputs": [],
   "source": [
    "df_yearly_avg_sorted.to_csv('taux_chom.csv', index=False)\n"
   ]
  },
  {
   "cell_type": "code",
   "execution_count": 39,
   "id": "770c1243",
   "metadata": {
    "ExecuteTime": {
     "end_time": "2024-03-20T11:06:54.092003300Z",
     "start_time": "2024-03-20T11:06:54.048963400Z"
    }
   },
   "outputs": [],
   "source": []
  },
  {
   "cell_type": "code",
   "execution_count": 39,
   "id": "9c31770a",
   "metadata": {
    "ExecuteTime": {
     "end_time": "2024-03-20T11:06:54.093005700Z",
     "start_time": "2024-03-20T11:06:54.065962800Z"
    }
   },
   "outputs": [],
   "source": []
  },
  {
   "cell_type": "code",
   "execution_count": 39,
   "id": "d3ea472e",
   "metadata": {
    "ExecuteTime": {
     "end_time": "2024-03-20T11:06:54.125989700Z",
     "start_time": "2024-03-20T11:06:54.080968500Z"
    }
   },
   "outputs": [],
   "source": []
  },
  {
   "cell_type": "code",
   "execution_count": 39,
   "id": "5fee69c4",
   "metadata": {
    "ExecuteTime": {
     "end_time": "2024-03-20T11:06:54.167002900Z",
     "start_time": "2024-03-20T11:06:54.095974100Z"
    }
   },
   "outputs": [],
   "source": []
  },
  {
   "cell_type": "code",
   "execution_count": 39,
   "id": "0ba271cb",
   "metadata": {
    "ExecuteTime": {
     "end_time": "2024-03-20T11:06:54.230988300Z",
     "start_time": "2024-03-20T11:06:54.111967500Z"
    }
   },
   "outputs": [],
   "source": []
  },
  {
   "cell_type": "code",
   "execution_count": 39,
   "id": "ba5d0596",
   "metadata": {
    "ExecuteTime": {
     "end_time": "2024-03-20T11:06:54.307961100Z",
     "start_time": "2024-03-20T11:06:54.126988200Z"
    }
   },
   "outputs": [],
   "source": []
  }
 ],
 "metadata": {
  "kernelspec": {
   "display_name": "Python 3 (ipykernel)",
   "language": "python",
   "name": "python3"
  },
  "language_info": {
   "codemirror_mode": {
    "name": "ipython",
    "version": 3
   },
   "file_extension": ".py",
   "mimetype": "text/x-python",
   "name": "python",
   "nbconvert_exporter": "python",
   "pygments_lexer": "ipython3",
   "version": "3.10.6"
  }
 },
 "nbformat": 4,
 "nbformat_minor": 5
}

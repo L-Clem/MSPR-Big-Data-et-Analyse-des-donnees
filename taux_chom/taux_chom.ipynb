{
 "cells": [
  {
   "cell_type": "code",
   "execution_count": 18,
   "id": "0193af9b",
   "metadata": {
    "ExecuteTime": {
     "end_time": "2024-03-20T10:59:11.222183100Z",
     "start_time": "2024-03-20T10:59:11.201181500Z"
    }
   },
   "outputs": [],
   "source": [
    "import pandas as pd"
   ]
  },
  {
   "cell_type": "code",
   "execution_count": 19,
   "id": "6c3c7a73",
   "metadata": {
    "ExecuteTime": {
     "end_time": "2024-03-20T10:59:11.248188Z",
     "start_time": "2024-03-20T10:59:11.214182300Z"
    }
   },
   "outputs": [
    {
     "data": {
      "text/plain": "       Periode  Taux de chômage Code\n0   2023-03-01              7.2   SD\n1   2023-02-01              7.0    A\n2   2023-01-01              6.9    A\n3   2022-04-01              7.0    A\n4   2022-03-01              7.0    A\n..         ...              ...  ...\n162 1983-01-01              7.0    A\n163 1982-04-01              7.0    A\n164 1982-03-01              7.0    A\n165 1982-02-01              6.8    A\n166 1982-01-01              6.7    A\n\n[167 rows x 3 columns]",
      "text/html": "<div>\n<style scoped>\n    .dataframe tbody tr th:only-of-type {\n        vertical-align: middle;\n    }\n\n    .dataframe tbody tr th {\n        vertical-align: top;\n    }\n\n    .dataframe thead th {\n        text-align: right;\n    }\n</style>\n<table border=\"1\" class=\"dataframe\">\n  <thead>\n    <tr style=\"text-align: right;\">\n      <th></th>\n      <th>Periode</th>\n      <th>Taux de chômage</th>\n      <th>Code</th>\n    </tr>\n  </thead>\n  <tbody>\n    <tr>\n      <th>0</th>\n      <td>2023-03-01</td>\n      <td>7.2</td>\n      <td>SD</td>\n    </tr>\n    <tr>\n      <th>1</th>\n      <td>2023-02-01</td>\n      <td>7.0</td>\n      <td>A</td>\n    </tr>\n    <tr>\n      <th>2</th>\n      <td>2023-01-01</td>\n      <td>6.9</td>\n      <td>A</td>\n    </tr>\n    <tr>\n      <th>3</th>\n      <td>2022-04-01</td>\n      <td>7.0</td>\n      <td>A</td>\n    </tr>\n    <tr>\n      <th>4</th>\n      <td>2022-03-01</td>\n      <td>7.0</td>\n      <td>A</td>\n    </tr>\n    <tr>\n      <th>...</th>\n      <td>...</td>\n      <td>...</td>\n      <td>...</td>\n    </tr>\n    <tr>\n      <th>162</th>\n      <td>1983-01-01</td>\n      <td>7.0</td>\n      <td>A</td>\n    </tr>\n    <tr>\n      <th>163</th>\n      <td>1982-04-01</td>\n      <td>7.0</td>\n      <td>A</td>\n    </tr>\n    <tr>\n      <th>164</th>\n      <td>1982-03-01</td>\n      <td>7.0</td>\n      <td>A</td>\n    </tr>\n    <tr>\n      <th>165</th>\n      <td>1982-02-01</td>\n      <td>6.8</td>\n      <td>A</td>\n    </tr>\n    <tr>\n      <th>166</th>\n      <td>1982-01-01</td>\n      <td>6.7</td>\n      <td>A</td>\n    </tr>\n  </tbody>\n</table>\n<p>167 rows × 3 columns</p>\n</div>"
     },
     "execution_count": 19,
     "metadata": {},
     "output_type": "execute_result"
    }
   ],
   "source": [
    "column_names = [\"Periode\", \"Taux de chômage\", \"Code\"]\n",
    "\n",
    "df_taux_chom = pd.read_csv('taux_chom_1982_2023_france.csv', delimiter=';', header=3, names=column_names)\n",
    "\n",
    "df_taux_chom['Periode'] = pd.to_datetime(df_taux_chom['Periode'], format='%Y-T%m')\n",
    "\n",
    "\n",
    "df_taux_chom['Taux de chômage'] = df_taux_chom['Taux de chômage'].astype(float)\n",
    "\n",
    "\n",
    "df_taux_chom"
   ]
  },
  {
   "cell_type": "code",
   "execution_count": 20,
   "id": "8efcd1cb",
   "metadata": {
    "ExecuteTime": {
     "end_time": "2024-03-20T10:59:11.288183500Z",
     "start_time": "2024-03-20T10:59:11.245187900Z"
    }
   },
   "outputs": [],
   "source": [
    "df_taux_chom_filtered = df_taux_chom[df_taux_chom['Periode'].dt.year >= 1994]\n"
   ]
  },
  {
   "cell_type": "code",
   "execution_count": 21,
   "outputs": [],
   "source": [
    "\n",
    "df_taux_chom['Annee'] = df_taux_chom['Periode'].dt.year\n",
    "df_yearly_avg = df_taux_chom.groupby('Annee').agg({'Taux de chômage': 'mean'}).reset_index()\n",
    "\n",
    "\n",
    "df_yearly_avg.rename(columns={'Periode': 'annee'}, inplace=True)"
   ],
   "metadata": {
    "collapsed": false,
    "ExecuteTime": {
     "end_time": "2024-03-20T10:59:11.350205800Z",
     "start_time": "2024-03-20T10:59:11.261182100Z"
    }
   },
   "id": "3ac1b9500b05fd1b"
  },
  {
   "cell_type": "code",
   "execution_count": 22,
   "outputs": [
    {
     "data": {
      "text/plain": "    Annee  Taux de chômage\n0    1982         6.875000\n1    1983         7.175000\n2    1984         8.350000\n3    1985         8.800000\n4    1986         8.800000\n5    1987         8.900000\n6    1988         8.525000\n7    1989         7.900000\n8    1990         7.650000\n9    1991         7.875000\n10   1992         8.700000\n11   1993         9.650000\n12   1994        10.275000\n13   1995         9.625000\n14   1996        10.100000\n15   1997        10.250000\n16   1998         9.800000\n17   1999         9.550000\n18   2000         8.175000\n19   2001         7.350000\n20   2002         7.525000\n21   2003         8.125000\n22   2004         8.500000\n23   2005         8.550000\n24   2006         8.500000\n25   2007         7.700000\n26   2008         7.100000\n27   2009         8.775000\n28   2010         8.900000\n29   2011         8.850000\n30   2012         9.425000\n31   2013         9.950000\n32   2014         9.900000\n33   2015        10.025000\n34   2016         9.750000\n35   2017         9.100000\n36   2018         8.725000\n37   2019         8.175000\n38   2020         7.850000\n39   2021         7.675000\n40   2022         7.100000\n41   2023         7.033333",
      "text/html": "<div>\n<style scoped>\n    .dataframe tbody tr th:only-of-type {\n        vertical-align: middle;\n    }\n\n    .dataframe tbody tr th {\n        vertical-align: top;\n    }\n\n    .dataframe thead th {\n        text-align: right;\n    }\n</style>\n<table border=\"1\" class=\"dataframe\">\n  <thead>\n    <tr style=\"text-align: right;\">\n      <th></th>\n      <th>Annee</th>\n      <th>Taux de chômage</th>\n    </tr>\n  </thead>\n  <tbody>\n    <tr>\n      <th>0</th>\n      <td>1982</td>\n      <td>6.875000</td>\n    </tr>\n    <tr>\n      <th>1</th>\n      <td>1983</td>\n      <td>7.175000</td>\n    </tr>\n    <tr>\n      <th>2</th>\n      <td>1984</td>\n      <td>8.350000</td>\n    </tr>\n    <tr>\n      <th>3</th>\n      <td>1985</td>\n      <td>8.800000</td>\n    </tr>\n    <tr>\n      <th>4</th>\n      <td>1986</td>\n      <td>8.800000</td>\n    </tr>\n    <tr>\n      <th>5</th>\n      <td>1987</td>\n      <td>8.900000</td>\n    </tr>\n    <tr>\n      <th>6</th>\n      <td>1988</td>\n      <td>8.525000</td>\n    </tr>\n    <tr>\n      <th>7</th>\n      <td>1989</td>\n      <td>7.900000</td>\n    </tr>\n    <tr>\n      <th>8</th>\n      <td>1990</td>\n      <td>7.650000</td>\n    </tr>\n    <tr>\n      <th>9</th>\n      <td>1991</td>\n      <td>7.875000</td>\n    </tr>\n    <tr>\n      <th>10</th>\n      <td>1992</td>\n      <td>8.700000</td>\n    </tr>\n    <tr>\n      <th>11</th>\n      <td>1993</td>\n      <td>9.650000</td>\n    </tr>\n    <tr>\n      <th>12</th>\n      <td>1994</td>\n      <td>10.275000</td>\n    </tr>\n    <tr>\n      <th>13</th>\n      <td>1995</td>\n      <td>9.625000</td>\n    </tr>\n    <tr>\n      <th>14</th>\n      <td>1996</td>\n      <td>10.100000</td>\n    </tr>\n    <tr>\n      <th>15</th>\n      <td>1997</td>\n      <td>10.250000</td>\n    </tr>\n    <tr>\n      <th>16</th>\n      <td>1998</td>\n      <td>9.800000</td>\n    </tr>\n    <tr>\n      <th>17</th>\n      <td>1999</td>\n      <td>9.550000</td>\n    </tr>\n    <tr>\n      <th>18</th>\n      <td>2000</td>\n      <td>8.175000</td>\n    </tr>\n    <tr>\n      <th>19</th>\n      <td>2001</td>\n      <td>7.350000</td>\n    </tr>\n    <tr>\n      <th>20</th>\n      <td>2002</td>\n      <td>7.525000</td>\n    </tr>\n    <tr>\n      <th>21</th>\n      <td>2003</td>\n      <td>8.125000</td>\n    </tr>\n    <tr>\n      <th>22</th>\n      <td>2004</td>\n      <td>8.500000</td>\n    </tr>\n    <tr>\n      <th>23</th>\n      <td>2005</td>\n      <td>8.550000</td>\n    </tr>\n    <tr>\n      <th>24</th>\n      <td>2006</td>\n      <td>8.500000</td>\n    </tr>\n    <tr>\n      <th>25</th>\n      <td>2007</td>\n      <td>7.700000</td>\n    </tr>\n    <tr>\n      <th>26</th>\n      <td>2008</td>\n      <td>7.100000</td>\n    </tr>\n    <tr>\n      <th>27</th>\n      <td>2009</td>\n      <td>8.775000</td>\n    </tr>\n    <tr>\n      <th>28</th>\n      <td>2010</td>\n      <td>8.900000</td>\n    </tr>\n    <tr>\n      <th>29</th>\n      <td>2011</td>\n      <td>8.850000</td>\n    </tr>\n    <tr>\n      <th>30</th>\n      <td>2012</td>\n      <td>9.425000</td>\n    </tr>\n    <tr>\n      <th>31</th>\n      <td>2013</td>\n      <td>9.950000</td>\n    </tr>\n    <tr>\n      <th>32</th>\n      <td>2014</td>\n      <td>9.900000</td>\n    </tr>\n    <tr>\n      <th>33</th>\n      <td>2015</td>\n      <td>10.025000</td>\n    </tr>\n    <tr>\n      <th>34</th>\n      <td>2016</td>\n      <td>9.750000</td>\n    </tr>\n    <tr>\n      <th>35</th>\n      <td>2017</td>\n      <td>9.100000</td>\n    </tr>\n    <tr>\n      <th>36</th>\n      <td>2018</td>\n      <td>8.725000</td>\n    </tr>\n    <tr>\n      <th>37</th>\n      <td>2019</td>\n      <td>8.175000</td>\n    </tr>\n    <tr>\n      <th>38</th>\n      <td>2020</td>\n      <td>7.850000</td>\n    </tr>\n    <tr>\n      <th>39</th>\n      <td>2021</td>\n      <td>7.675000</td>\n    </tr>\n    <tr>\n      <th>40</th>\n      <td>2022</td>\n      <td>7.100000</td>\n    </tr>\n    <tr>\n      <th>41</th>\n      <td>2023</td>\n      <td>7.033333</td>\n    </tr>\n  </tbody>\n</table>\n</div>"
     },
     "execution_count": 22,
     "metadata": {},
     "output_type": "execute_result"
    }
   ],
   "source": [
    "df_yearly_avg"
   ],
   "metadata": {
    "collapsed": false,
    "ExecuteTime": {
     "end_time": "2024-03-20T10:59:11.459182Z",
     "start_time": "2024-03-20T10:59:11.293185Z"
    }
   },
   "id": "6e529f2196524edc"
  },
  {
   "cell_type": "code",
   "execution_count": 23,
   "id": "c1de6c11",
   "metadata": {
    "ExecuteTime": {
     "end_time": "2024-03-20T10:59:11.496181200Z",
     "start_time": "2024-03-20T10:59:11.324184300Z"
    }
   },
   "outputs": [],
   "source": [
    "df_yearly_avg.to_csv('taux_chom.csv', index=False)\n"
   ]
  },
  {
   "cell_type": "code",
   "execution_count": 23,
   "id": "770c1243",
   "metadata": {
    "ExecuteTime": {
     "end_time": "2024-03-20T10:59:11.498182100Z",
     "start_time": "2024-03-20T10:59:11.340182600Z"
    }
   },
   "outputs": [],
   "source": []
  },
  {
   "cell_type": "code",
   "execution_count": 23,
   "id": "9c31770a",
   "metadata": {
    "ExecuteTime": {
     "end_time": "2024-03-20T10:59:11.498182100Z",
     "start_time": "2024-03-20T10:59:11.354181900Z"
    }
   },
   "outputs": [],
   "source": []
  },
  {
   "cell_type": "code",
   "execution_count": 23,
   "id": "d3ea472e",
   "metadata": {
    "ExecuteTime": {
     "end_time": "2024-03-20T10:59:11.499182100Z",
     "start_time": "2024-03-20T10:59:11.370180700Z"
    }
   },
   "outputs": [],
   "source": []
  },
  {
   "cell_type": "code",
   "execution_count": 23,
   "id": "5fee69c4",
   "metadata": {
    "ExecuteTime": {
     "end_time": "2024-03-20T10:59:11.499182100Z",
     "start_time": "2024-03-20T10:59:11.387182100Z"
    }
   },
   "outputs": [],
   "source": []
  },
  {
   "cell_type": "code",
   "execution_count": 23,
   "id": "0ba271cb",
   "metadata": {
    "ExecuteTime": {
     "end_time": "2024-03-20T10:59:11.500180500Z",
     "start_time": "2024-03-20T10:59:11.403181600Z"
    }
   },
   "outputs": [],
   "source": []
  },
  {
   "cell_type": "code",
   "execution_count": 23,
   "id": "ba5d0596",
   "metadata": {
    "ExecuteTime": {
     "end_time": "2024-03-20T10:59:11.506182500Z",
     "start_time": "2024-03-20T10:59:11.419181800Z"
    }
   },
   "outputs": [],
   "source": []
  }
 ],
 "metadata": {
  "kernelspec": {
   "display_name": "Python 3 (ipykernel)",
   "language": "python",
   "name": "python3"
  },
  "language_info": {
   "codemirror_mode": {
    "name": "ipython",
    "version": 3
   },
   "file_extension": ".py",
   "mimetype": "text/x-python",
   "name": "python",
   "nbconvert_exporter": "python",
   "pygments_lexer": "ipython3",
   "version": "3.10.6"
  }
 },
 "nbformat": 4,
 "nbformat_minor": 5
}

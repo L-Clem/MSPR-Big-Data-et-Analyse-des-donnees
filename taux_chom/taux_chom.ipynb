{
 "cells": [
  {
   "cell_type": "code",
   "execution_count": 17,
   "id": "0193af9b",
   "metadata": {
    "ExecuteTime": {
     "end_time": "2024-03-20T08:34:19.481954900Z",
     "start_time": "2024-03-20T08:34:19.402957500Z"
    }
   },
   "outputs": [],
   "source": [
    "import pandas as pd"
   ]
  },
  {
   "cell_type": "code",
   "execution_count": 18,
   "id": "6c3c7a73",
   "metadata": {
    "ExecuteTime": {
     "end_time": "2024-03-20T08:34:19.517973800Z",
     "start_time": "2024-03-20T08:34:19.416977500Z"
    }
   },
   "outputs": [
    {
     "data": {
      "text/plain": "       Periode  Taux de chômage Code\n0   2023-03-01              7.2   SD\n1   2023-02-01              7.0    A\n2   2023-01-01              6.9    A\n3   2022-04-01              7.0    A\n4   2022-03-01              7.0    A\n..         ...              ...  ...\n162 1983-01-01              7.0    A\n163 1982-04-01              7.0    A\n164 1982-03-01              7.0    A\n165 1982-02-01              6.8    A\n166 1982-01-01              6.7    A\n\n[167 rows x 3 columns]",
      "text/html": "<div>\n<style scoped>\n    .dataframe tbody tr th:only-of-type {\n        vertical-align: middle;\n    }\n\n    .dataframe tbody tr th {\n        vertical-align: top;\n    }\n\n    .dataframe thead th {\n        text-align: right;\n    }\n</style>\n<table border=\"1\" class=\"dataframe\">\n  <thead>\n    <tr style=\"text-align: right;\">\n      <th></th>\n      <th>Periode</th>\n      <th>Taux de chômage</th>\n      <th>Code</th>\n    </tr>\n  </thead>\n  <tbody>\n    <tr>\n      <th>0</th>\n      <td>2023-03-01</td>\n      <td>7.2</td>\n      <td>SD</td>\n    </tr>\n    <tr>\n      <th>1</th>\n      <td>2023-02-01</td>\n      <td>7.0</td>\n      <td>A</td>\n    </tr>\n    <tr>\n      <th>2</th>\n      <td>2023-01-01</td>\n      <td>6.9</td>\n      <td>A</td>\n    </tr>\n    <tr>\n      <th>3</th>\n      <td>2022-04-01</td>\n      <td>7.0</td>\n      <td>A</td>\n    </tr>\n    <tr>\n      <th>4</th>\n      <td>2022-03-01</td>\n      <td>7.0</td>\n      <td>A</td>\n    </tr>\n    <tr>\n      <th>...</th>\n      <td>...</td>\n      <td>...</td>\n      <td>...</td>\n    </tr>\n    <tr>\n      <th>162</th>\n      <td>1983-01-01</td>\n      <td>7.0</td>\n      <td>A</td>\n    </tr>\n    <tr>\n      <th>163</th>\n      <td>1982-04-01</td>\n      <td>7.0</td>\n      <td>A</td>\n    </tr>\n    <tr>\n      <th>164</th>\n      <td>1982-03-01</td>\n      <td>7.0</td>\n      <td>A</td>\n    </tr>\n    <tr>\n      <th>165</th>\n      <td>1982-02-01</td>\n      <td>6.8</td>\n      <td>A</td>\n    </tr>\n    <tr>\n      <th>166</th>\n      <td>1982-01-01</td>\n      <td>6.7</td>\n      <td>A</td>\n    </tr>\n  </tbody>\n</table>\n<p>167 rows × 3 columns</p>\n</div>"
     },
     "execution_count": 18,
     "metadata": {},
     "output_type": "execute_result"
    }
   ],
   "source": [
    "column_names = [\"Periode\", \"Taux de chômage\", \"Code\"]\n",
    "\n",
    "df_taux_chom = pd.read_csv('taux_chom_1982_2023_france.csv', delimiter=';', header=3, names=column_names)\n",
    "\n",
    "df_taux_chom['Periode'] = pd.to_datetime(df_taux_chom['Periode'], format='%Y-T%m')\n",
    "\n",
    "\n",
    "df_taux_chom['Taux de chômage'] = df_taux_chom['Taux de chômage'].astype(float)\n",
    "\n",
    "\n",
    "df_taux_chom"
   ]
  },
  {
   "cell_type": "code",
   "execution_count": 19,
   "id": "8efcd1cb",
   "metadata": {
    "ExecuteTime": {
     "end_time": "2024-03-20T08:34:19.518957700Z",
     "start_time": "2024-03-20T08:34:19.446975900Z"
    }
   },
   "outputs": [],
   "source": [
    "df_taux_chom_filtered = df_taux_chom[df_taux_chom['Periode'].dt.year >= 1994]\n"
   ]
  },
  {
   "cell_type": "code",
   "execution_count": 20,
   "id": "7955e705",
   "metadata": {
    "ExecuteTime": {
     "end_time": "2024-03-20T08:34:19.518957700Z",
     "start_time": "2024-03-20T08:34:19.460955100Z"
    }
   },
   "outputs": [],
   "source": [
    "df_codes = pd.read_csv('taux_chom_variab_1982_2023_france.csv', delimiter=';', header=None, skiprows=3, names=[\"Code\", \"Description\"])\n",
    "\n",
    "df_merged = pd.merge(df_taux_chom_filtered, df_codes, on=\"Code\", how=\"left\")"
   ]
  },
  {
   "cell_type": "code",
   "execution_count": 21,
   "outputs": [
    {
     "data": {
      "text/plain": "       Periode  Taux de chômage Code             Description\n0   2023-03-01              7.2   SD  Valeur semi-définitive\n1   2023-02-01              7.0    A          Valeur normale\n2   2023-01-01              6.9    A          Valeur normale\n3   2022-04-01              7.0    A          Valeur normale\n4   2022-03-01              7.0    A          Valeur normale\n..         ...              ...  ...                     ...\n114 1995-01-01              9.8    A          Valeur normale\n115 1994-04-01             10.1    A          Valeur normale\n116 1994-03-01             10.3    A          Valeur normale\n117 1994-02-01             10.4    A          Valeur normale\n118 1994-01-01             10.3    A          Valeur normale\n\n[119 rows x 4 columns]",
      "text/html": "<div>\n<style scoped>\n    .dataframe tbody tr th:only-of-type {\n        vertical-align: middle;\n    }\n\n    .dataframe tbody tr th {\n        vertical-align: top;\n    }\n\n    .dataframe thead th {\n        text-align: right;\n    }\n</style>\n<table border=\"1\" class=\"dataframe\">\n  <thead>\n    <tr style=\"text-align: right;\">\n      <th></th>\n      <th>Periode</th>\n      <th>Taux de chômage</th>\n      <th>Code</th>\n      <th>Description</th>\n    </tr>\n  </thead>\n  <tbody>\n    <tr>\n      <th>0</th>\n      <td>2023-03-01</td>\n      <td>7.2</td>\n      <td>SD</td>\n      <td>Valeur semi-définitive</td>\n    </tr>\n    <tr>\n      <th>1</th>\n      <td>2023-02-01</td>\n      <td>7.0</td>\n      <td>A</td>\n      <td>Valeur normale</td>\n    </tr>\n    <tr>\n      <th>2</th>\n      <td>2023-01-01</td>\n      <td>6.9</td>\n      <td>A</td>\n      <td>Valeur normale</td>\n    </tr>\n    <tr>\n      <th>3</th>\n      <td>2022-04-01</td>\n      <td>7.0</td>\n      <td>A</td>\n      <td>Valeur normale</td>\n    </tr>\n    <tr>\n      <th>4</th>\n      <td>2022-03-01</td>\n      <td>7.0</td>\n      <td>A</td>\n      <td>Valeur normale</td>\n    </tr>\n    <tr>\n      <th>...</th>\n      <td>...</td>\n      <td>...</td>\n      <td>...</td>\n      <td>...</td>\n    </tr>\n    <tr>\n      <th>114</th>\n      <td>1995-01-01</td>\n      <td>9.8</td>\n      <td>A</td>\n      <td>Valeur normale</td>\n    </tr>\n    <tr>\n      <th>115</th>\n      <td>1994-04-01</td>\n      <td>10.1</td>\n      <td>A</td>\n      <td>Valeur normale</td>\n    </tr>\n    <tr>\n      <th>116</th>\n      <td>1994-03-01</td>\n      <td>10.3</td>\n      <td>A</td>\n      <td>Valeur normale</td>\n    </tr>\n    <tr>\n      <th>117</th>\n      <td>1994-02-01</td>\n      <td>10.4</td>\n      <td>A</td>\n      <td>Valeur normale</td>\n    </tr>\n    <tr>\n      <th>118</th>\n      <td>1994-01-01</td>\n      <td>10.3</td>\n      <td>A</td>\n      <td>Valeur normale</td>\n    </tr>\n  </tbody>\n</table>\n<p>119 rows × 4 columns</p>\n</div>"
     },
     "execution_count": 21,
     "metadata": {},
     "output_type": "execute_result"
    }
   ],
   "source": [
    "df_merged"
   ],
   "metadata": {
    "collapsed": false,
    "ExecuteTime": {
     "end_time": "2024-03-20T08:34:19.519957500Z",
     "start_time": "2024-03-20T08:34:19.477956600Z"
    }
   },
   "id": "e8c2b8977bf96dd6"
  },
  {
   "cell_type": "code",
   "execution_count": 22,
   "id": "c1de6c11",
   "metadata": {
    "ExecuteTime": {
     "end_time": "2024-03-20T08:34:19.530977600Z",
     "start_time": "2024-03-20T08:34:19.507957900Z"
    }
   },
   "outputs": [],
   "source": [
    "df_merged.to_csv('taux_chom.csv', index=False)\n"
   ]
  },
  {
   "cell_type": "code",
   "execution_count": 22,
   "id": "770c1243",
   "metadata": {
    "ExecuteTime": {
     "end_time": "2024-03-20T08:34:19.549951300Z",
     "start_time": "2024-03-20T08:34:19.521956800Z"
    }
   },
   "outputs": [],
   "source": []
  },
  {
   "cell_type": "code",
   "execution_count": 22,
   "id": "9c31770a",
   "metadata": {
    "ExecuteTime": {
     "end_time": "2024-03-20T08:34:19.572956500Z",
     "start_time": "2024-03-20T08:34:19.538951100Z"
    }
   },
   "outputs": [],
   "source": []
  },
  {
   "cell_type": "code",
   "execution_count": 22,
   "id": "d3ea472e",
   "metadata": {
    "ExecuteTime": {
     "end_time": "2024-03-20T08:34:19.671951200Z",
     "start_time": "2024-03-20T08:34:19.552950500Z"
    }
   },
   "outputs": [],
   "source": []
  },
  {
   "cell_type": "code",
   "execution_count": 22,
   "id": "5fee69c4",
   "metadata": {
    "ExecuteTime": {
     "end_time": "2024-03-20T08:34:19.721955600Z",
     "start_time": "2024-03-20T08:34:19.568973100Z"
    }
   },
   "outputs": [],
   "source": []
  },
  {
   "cell_type": "code",
   "execution_count": 22,
   "id": "0ba271cb",
   "metadata": {
    "ExecuteTime": {
     "end_time": "2024-03-20T08:34:19.754957Z",
     "start_time": "2024-03-20T08:34:19.585954400Z"
    }
   },
   "outputs": [],
   "source": []
  },
  {
   "cell_type": "code",
   "execution_count": 22,
   "id": "ba5d0596",
   "metadata": {
    "ExecuteTime": {
     "end_time": "2024-03-20T08:34:19.766992Z",
     "start_time": "2024-03-20T08:34:19.598953400Z"
    }
   },
   "outputs": [],
   "source": []
  }
 ],
 "metadata": {
  "kernelspec": {
   "display_name": "Python 3 (ipykernel)",
   "language": "python",
   "name": "python3"
  },
  "language_info": {
   "codemirror_mode": {
    "name": "ipython",
    "version": 3
   },
   "file_extension": ".py",
   "mimetype": "text/x-python",
   "name": "python",
   "nbconvert_exporter": "python",
   "pygments_lexer": "ipython3",
   "version": "3.10.6"
  }
 },
 "nbformat": 4,
 "nbformat_minor": 5
}

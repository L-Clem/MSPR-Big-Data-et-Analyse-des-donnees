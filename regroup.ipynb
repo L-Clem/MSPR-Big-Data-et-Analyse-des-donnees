{
 "cells": [
  {
   "cell_type": "code",
   "execution_count": 1,
   "id": "3db68419",
   "metadata": {},
   "outputs": [],
   "source": [
    "files= [\n",
    "    \"age_depart_retraite/age-depart-retraite.csv\",\n",
    "    \"densite_medecin/densite_medecin.csv\",\n",
    "    \"depense_recette/depense-recette.csv\",\n",
    "    \"elections/elections.csv\",\n",
    "    \"esperance_vie/esperance_vie.csv\",\n",
    "    \"fecondite/fecondite.csv\",\n",
    "    \"inegalite/inegalite.csv\",\n",
    "    \"inflation/inflation.csv\",\n",
    "    \"insecurite/insecurite.csv\",\n",
    "    \"nombre-emplois/nbr_emplois.csv\",\n",
    "    \"rapport_retraite/rapport-retraite.csv\",\n",
    "    \"recencement_population/population.csv\",\n",
    "    \"taux-activite/taux-activite.csv\",\n",
    "    \"taux-mortalite/taux-mortalite.csv\",\n",
    "    \"taux-pauvrete/taux-pauvrete.csv\",\n",
    "    \"taux_chom/taux_chomage.csv\",\n",
    "    \"taux_natalite/natalite.csv\",\n",
    "]"
   ]
  },
  {
   "cell_type": "code",
   "execution_count": 2,
   "id": "07f3fb71",
   "metadata": {},
   "outputs": [
    {
     "name": "stderr",
     "output_type": "stream",
     "text": [
      "/var/folders/6l/7z68vf196xjd9mbcdm1sw6pm0000gn/T/ipykernel_24270/1599983800.py:6: FutureWarning: Passing a negative integer is deprecated in version 1.0 and will not be supported in future version. Instead, use None to not limit the column width.\n",
      "  pd.set_option('display.max_colwidth', -1)\n"
     ]
    }
   ],
   "source": [
    "import pandas as pd\n",
    "import functools \n",
    "pd.set_option('display.max_rows', None)\n",
    "pd.set_option('display.max_columns', None)\n",
    "pd.set_option('display.width', None)\n",
    "pd.set_option('display.max_colwidth', -1)"
   ]
  },
  {
   "cell_type": "code",
   "execution_count": 3,
   "id": "89d396f5",
   "metadata": {},
   "outputs": [
    {
     "data": {
      "text/plain": [
       "17"
      ]
     },
     "execution_count": 3,
     "metadata": {},
     "output_type": "execute_result"
    }
   ],
   "source": [
    "df_to_merge = []\n",
    "for file in files:\n",
    "    df_to_merge.append(pd.read_csv(file).sort_values('Année').drop([\"Unnamed: 0\"],axis=1).reset_index(drop=True))\n",
    "len(df_to_merge)"
   ]
  },
  {
   "cell_type": "code",
   "execution_count": 4,
   "id": "1f3956ef",
   "metadata": {},
   "outputs": [],
   "source": [
    "df_merged = functools.reduce(lambda  left,right: pd.merge(left,right,on=[\"Année\",\"Code du département\"],\n",
    "                                            how='outer'), df_to_merge)\n",
    "df_merged =df_merged.sort_values('Année').reset_index(drop=True).drop([\"Unnamed: 0.1\"],axis=1)"
   ]
  },
  {
   "cell_type": "code",
   "execution_count": 5,
   "id": "62600564",
   "metadata": {},
   "outputs": [
    {
     "data": {
      "text/plain": [
       "3108"
      ]
     },
     "execution_count": 5,
     "metadata": {},
     "output_type": "execute_result"
    }
   ],
   "source": [
    "len(df_merged)"
   ]
  },
  {
   "cell_type": "code",
   "execution_count": 6,
   "id": "ae72ab10",
   "metadata": {},
   "outputs": [
    {
     "data": {
      "text/plain": [
       "Index(['Année', 'age-depart-retraite', 'Code du département',\n",
       "       'densite_medecin_general', 'densite_infirmier', 'densite_sepcialiste',\n",
       "       'Dépenses', 'Recettes', 'Déficit au sens de Maastricht', 'Inscrits',\n",
       "       'Abstentions', 'Votants', 'Extreme Gauche', 'Gauche', 'Droite',\n",
       "       'Extreme Droite', 'Autre', 'Election', 'esperance_vie_homme',\n",
       "       'esperance_vie_femme', 'indicateur-fecondite', 'age-moyen-mere',\n",
       "       'raport-inegalite-homme-femme', 'raport-inegalite-cadre-ouvrier',\n",
       "       'Rapport interdécile (D9/D1)', 'rapport-inegalite-d9-d5',\n",
       "       'rapport-inegalite-d5-d1', 'Taux inflation', 'index',\n",
       "       'Insecurite Femme quartier', 'Insecurite Homme quartier',\n",
       "       'Insecurite Femme renonce', 'Insecurite Homme renonce',\n",
       "       'Insecurite Femme domicile', 'Insecurite Homme domicile', 'nbr_emplois',\n",
       "       'rapport-retraite', 'Population 0 à 19 ans', 'Population 20 à 39 ans',\n",
       "       'Population 40 à 59 ans', 'Population 60 à 74 ans',\n",
       "       'Population 75 ans et plus', 'Population Total',\n",
       "       'taux-activite-15-24-femme', 'taux-activite-25-49-femme',\n",
       "       'taux-activite-50-64-femme', 'taux-activite-65-69-femme',\n",
       "       'taux-activite-15-24-homme', 'taux-activite-25-49-homme',\n",
       "       'taux-activite-50-64-homme', 'taux-activite-65-69-homme',\n",
       "       'taux-mortalite', 'taux_pauvrete_seuil_40%', 'taux_pauvrete_seuil_50%',\n",
       "       'taux_pauvrete_seuil_60%', 'taux_pauvrete_seuil_70%',\n",
       "       'taux_chomage_ensemble', 'taux_chomage_15_24', 'taux_chomage_25_49',\n",
       "       'taux_chomage_50_+', 'taux_chomage_femme', 'taux_chomage_homme',\n",
       "       'Taux de natalité'],\n",
       "      dtype='object')"
      ]
     },
     "execution_count": 6,
     "metadata": {},
     "output_type": "execute_result"
    }
   ],
   "source": [
    "df_merged.columns"
   ]
  },
  {
   "cell_type": "code",
   "execution_count": 7,
   "id": "18e02535",
   "metadata": {},
   "outputs": [],
   "source": [
    "df_merged.to_csv(\"df_before_analysis.csv\")"
   ]
  },
  {
   "cell_type": "code",
   "execution_count": null,
   "id": "9f11d96b",
   "metadata": {},
   "outputs": [],
   "source": []
  }
 ],
 "metadata": {
  "kernelspec": {
   "display_name": "Python 3 (ipykernel)",
   "language": "python",
   "name": "python3"
  },
  "language_info": {
   "codemirror_mode": {
    "name": "ipython",
    "version": 3
   },
   "file_extension": ".py",
   "mimetype": "text/x-python",
   "name": "python",
   "nbconvert_exporter": "python",
   "pygments_lexer": "ipython3",
   "version": "3.10.9"
  }
 },
 "nbformat": 4,
 "nbformat_minor": 5
}

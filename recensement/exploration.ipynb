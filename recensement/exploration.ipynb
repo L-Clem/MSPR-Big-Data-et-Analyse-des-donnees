{
 "cells": [
  {
   "cell_type": "code",
   "execution_count": 2,
   "id": "095999d5-ca81-4dce-a8e9-a196bd22c8ed",
   "metadata": {},
   "outputs": [],
   "source": [
    "import pandas as pd\n",
    "import numpy as np"
   ]
  },
  {
   "cell_type": "code",
   "execution_count": 6,
   "id": "1b5e9dd6-17d5-4be7-afc9-d120508ac0a1",
   "metadata": {},
   "outputs": [],
   "source": [
    "PATH_REC_2006 = pd.read_csv('reces_2006_canton_ville_D.txt', sep=';', chunksize=10000,  low_memory=False)"
   ]
  },
  {
   "cell_type": "code",
   "execution_count": 8,
   "id": "8a044f55-f1e0-44a0-b1c6-f25672cebeed",
   "metadata": {},
   "outputs": [],
   "source": [
    "for data in PATH_REC_2006:\n",
    "    data.info()"
   ]
  },
  {
   "cell_type": "code",
   "execution_count": null,
   "id": "d4f638e2-b4a1-40c7-9af2-3bfa59e393a5",
   "metadata": {},
   "outputs": [],
   "source": []
  }
 ],
 "metadata": {
  "kernelspec": {
   "display_name": "Python 3 (ipykernel)",
   "language": "python",
   "name": "python3"
  },
  "language_info": {
   "codemirror_mode": {
    "name": "ipython",
    "version": 3
   },
   "file_extension": ".py",
   "mimetype": "text/x-python",
   "name": "python",
   "nbconvert_exporter": "python",
   "pygments_lexer": "ipython3",
   "version": "3.11.8"
  }
 },
 "nbformat": 4,
 "nbformat_minor": 5
}

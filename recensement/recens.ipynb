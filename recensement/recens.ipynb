{
 "cells": [
  {
   "cell_type": "markdown",
   "id": "ea319eff-3bc0-4f93-8883-89612f981e06",
   "metadata": {},
   "source": [
    "# Setup project"
   ]
  },
  {
   "cell_type": "code",
   "execution_count": 1,
   "id": "095999d5-ca81-4dce-a8e9-a196bd22c8ed",
   "metadata": {},
   "outputs": [],
   "source": [
    "import pandas as pd\n",
    "import numpy as np\n",
    "import re"
   ]
  },
  {
   "cell_type": "code",
   "execution_count": 181,
   "id": "4bbe5a1c-f1da-4c20-9cd8-c2f9253ef305",
   "metadata": {},
   "outputs": [],
   "source": [
    "df_cantons = pd.read_csv('cantons_cleaned.csv')"
   ]
  },
  {
   "cell_type": "code",
   "execution_count": 265,
   "id": "c0875207-ce52-4040-8603-14b6977e977f",
   "metadata": {},
   "outputs": [],
   "source": [
    "annee = 2006"
   ]
  },
  {
   "cell_type": "code",
   "execution_count": 266,
   "id": "1b5e9dd6-17d5-4be7-afc9-d120508ac0a1",
   "metadata": {},
   "outputs": [],
   "source": [
    "df_20xx = pd.read_csv('reces_' + str(annee) + '_canton_ville_D.csv', sep=';', low_memory=False)"
   ]
  },
  {
   "cell_type": "code",
   "execution_count": 267,
   "id": "5e9572aa-4922-49fb-ac4d-72e860982ccb",
   "metadata": {},
   "outputs": [],
   "source": [
    "csv_name = \"recens_\" + str(annee) + \".csv\""
   ]
  },
  {
   "cell_type": "markdown",
   "id": "72bf67b9-1c38-42da-8241-051472fb49fa",
   "metadata": {},
   "source": [
    "## Constants"
   ]
  },
  {
   "cell_type": "code",
   "execution_count": 22,
   "id": "d5f67862-8ce9-41c1-a7fb-ced91cc431c8",
   "metadata": {},
   "outputs": [],
   "source": [
    "# used to filter the cantons ds csv (find it on the drive)\n",
    "DEPARTEMENTS = ['16',\n",
    "                '17',\n",
    "                '19',\n",
    "                '23',\n",
    "                '24',\n",
    "                '33',\n",
    "                '40',\n",
    "                '47',\n",
    "                '64',\n",
    "                '79',\n",
    "                '86',\n",
    "                '87']\n",
    "DEPARTEMENTS_INT = [int(numeric_string) for numeric_string in DEPARTEMENTS]"
   ]
  },
  {
   "cell_type": "code",
   "execution_count": 23,
   "id": "8727b5c1-177b-42e6-84f2-774b2aaff358",
   "metadata": {},
   "outputs": [],
   "source": [
    "# columns to keep in each pass\n",
    "COLUMNS_TO_KEEP = [\n",
    "    \"annee\",\n",
    "    \"departement\",\n",
    "    \"AGED\",\n",
    "    \"ASCEN\",\n",
    "    \"CATL\",\n",
    "    \"CATPC\",\n",
    "    \"CHFL\",\n",
    "    \"CMBL\",\n",
    "#    \"DIPL\",\n",
    "    \"EMPL\",\n",
    "    \"ETUD\",\n",
    "    \"GARL\",\n",
    "    \"HLML\",\n",
    "    \"ILT\",\n",
    "    \"IMMI\",\n",
    "    \"INAI\",\n",
    "    \"INFAM\",\n",
    "    \"LIENF\",\n",
    "#    \"MATR\",\n",
    "    \"MOCO\",\n",
    "    \"MODV\",\n",
    "#    \"NA17\",\n",
    "    \"NAIDT\",\n",
    "    \"NBPI\",\n",
    "#    \"NENFR\",\n",
    "    \"NPERR\",\n",
    "    \"ORIDT\",\n",
    "    \"RECH\",\n",
    "    \"SANI\",\n",
    "    \"SFM\",\n",
    "    \"STOCD\",\n",
    "    \"SURF\",\n",
    "#    \"TACTD16\",\n",
    "    \"TP\",\n",
    "    \"TRANS\",\n",
    "    \"TYPL\",\n",
    "    \"VOIT\",\n",
    "]"
   ]
  },
  {
   "cell_type": "code",
   "execution_count": 24,
   "id": "82248676-63e6-479c-8b4e-e60184181cf1",
   "metadata": {},
   "outputs": [],
   "source": [
    "# columns that need to be transformed to dummies\n",
    "TO_DUMMIES = [\n",
    "    \"AGED\",\n",
    "    \"ASCEN\",\n",
    "    \"CATL\",\n",
    "    \"CATPC\",\n",
    "    \"CHFL\",\n",
    "    \"CMBL\",\n",
    "#    \"DIPL\",\n",
    "    \"EMPL\",\n",
    "    \"ETUD\",\n",
    "    \"GARL\",\n",
    "    \"HLML\",\n",
    "    \"ILT\",\n",
    "    \"IMMI\",\n",
    "    \"INAI\",\n",
    "    \"INFAM\",\n",
    "    \"LIENF\",\n",
    "    \"MOCO\",\n",
    "    \"MODV\",\n",
    "#    \"NA17\",\n",
    "    \"NAIDT\",\n",
    "    \"NBPI\",\n",
    "#    \"NENFR\",\n",
    "    \"NPERR\",\n",
    "    \"ORIDT\",\n",
    "    \"RECH\",\n",
    "    \"SANI\",\n",
    "    \"SFM\",\n",
    "    \"STOCD\",\n",
    "    \"SURF\",\n",
    "    \"TP\",\n",
    "    \"TRANS\",\n",
    "    \"TYPL\",\n",
    "    \"VOIT\",\n",
    "]"
   ]
  },
  {
   "cell_type": "markdown",
   "id": "5fb956ef-1526-4ee5-ba17-7a83378b317b",
   "metadata": {
    "jp-MarkdownHeadingCollapsed": true
   },
   "source": [
    "# Study dataset"
   ]
  },
  {
   "cell_type": "code",
   "execution_count": null,
   "id": "8a044f55-f1e0-44a0-b1c6-f25672cebeed",
   "metadata": {},
   "outputs": [],
   "source": [
    "df_20xx.info()"
   ]
  },
  {
   "cell_type": "code",
   "execution_count": null,
   "id": "d4f638e2-b4a1-40c7-9af2-3bfa59e393a5",
   "metadata": {},
   "outputs": [],
   "source": [
    "df_20xx.head()"
   ]
  },
  {
   "cell_type": "code",
   "execution_count": null,
   "id": "f92ca6f0-d45c-44a0-8edd-e6b8f5eb8b87",
   "metadata": {},
   "outputs": [],
   "source": [
    "df_20xx['CANTVILLE'].value_counts()"
   ]
  },
  {
   "cell_type": "code",
   "execution_count": null,
   "id": "692ab5f8-5e9c-4b30-8bda-3479b3e24ae3",
   "metadata": {},
   "outputs": [],
   "source": [
    "df_cantons.info()"
   ]
  },
  {
   "cell_type": "markdown",
   "id": "22e407fc-9d87-47cd-8ea4-9fda78ec2486",
   "metadata": {},
   "source": [
    "# Work on dataset"
   ]
  },
  {
   "cell_type": "markdown",
   "id": "89a2e095-0cf6-465d-94e4-41edcc36859e",
   "metadata": {
    "jp-MarkdownHeadingCollapsed": true
   },
   "source": [
    "## Test"
   ]
  },
  {
   "cell_type": "code",
   "execution_count": null,
   "id": "a5b43741-84de-47e4-8f95-c2ada688f081",
   "metadata": {},
   "outputs": [],
   "source": [
    "# replace next df by this to try pipeline\n",
    "test = df_20xx.sample(n=100000)"
   ]
  },
  {
   "cell_type": "markdown",
   "id": "a10e9803-7924-4a0d-90a8-162d2d530d3e",
   "metadata": {},
   "source": [
    "## Work"
   ]
  },
  {
   "cell_type": "code",
   "execution_count": 268,
   "id": "b2ba61db-e85a-4f38-8cb4-659ccfdf7394",
   "metadata": {},
   "outputs": [],
   "source": [
    "# change df used by current_df to test\n",
    "current_df = df_20xx"
   ]
  },
  {
   "cell_type": "code",
   "execution_count": 269,
   "id": "2fbf951c-f1ba-4b15-8b68-20f4f4816512",
   "metadata": {},
   "outputs": [],
   "source": [
    "current_df['annee'] = annee"
   ]
  },
  {
   "cell_type": "code",
   "execution_count": 270,
   "id": "195a54da-0bd2-4e39-9520-6626fe4e13ca",
   "metadata": {},
   "outputs": [],
   "source": [
    "# filter year and extract rows that have a cantville in the Nouvelle-Aquitaine cantons dataset\n",
    "filtered_df = current_df[current_df['CANTVILLE'].isin(df_cantons['Canton-ou-ville'])]"
   ]
  },
  {
   "cell_type": "code",
   "execution_count": 271,
   "id": "42f7a6d7-6436-4fe8-bf4b-303ce7bea249",
   "metadata": {},
   "outputs": [],
   "source": [
    "# merge filtered and cantons df to get cantons departement for each rows of the filtered df\n",
    "merged_df = pd.merge(filtered_df, df_cantons, how='left', left_on='CANTVILLE', right_on='Canton-ou-ville')"
   ]
  },
  {
   "cell_type": "code",
   "execution_count": 272,
   "id": "86ad3c96-f0ae-4428-ba84-b449ab3c4c6a",
   "metadata": {},
   "outputs": [],
   "source": [
    "# rename departement column to match syntax rules\n",
    "merged_df = merged_df.rename(columns={\n",
    "    'Département': 'departement'\n",
    "})"
   ]
  },
  {
   "cell_type": "code",
   "execution_count": 273,
   "id": "2fa7500b-e071-4bde-94b4-80dbfa5262a6",
   "metadata": {},
   "outputs": [],
   "source": [
    "# filter again the df to keep allowed columns\n",
    "merged_df = merged_df.loc[:, COLUMNS_TO_KEEP]"
   ]
  },
  {
   "cell_type": "code",
   "execution_count": 274,
   "id": "fa6c910c-85e0-431b-8048-0de79efee225",
   "metadata": {},
   "outputs": [],
   "source": [
    "merged_df = pd.get_dummies(merged_df, columns=TO_DUMMIES, drop_first=True)"
   ]
  },
  {
   "cell_type": "code",
   "execution_count": 275,
   "id": "c4b5a77f-9491-436a-89bd-73fff9625bea",
   "metadata": {},
   "outputs": [],
   "source": [
    "for col in merged_df:\n",
    "    if merged_df[col].dtypes == bool:\n",
    "        merged_df[col] = merged_df[col].map({True: 1, False: 0}) # do not replace by \"replace()\" map is a lot faster"
   ]
  },
  {
   "cell_type": "code",
   "execution_count": 276,
   "id": "c746d4f8-375d-42cf-997c-01fd8bf44fef",
   "metadata": {},
   "outputs": [],
   "source": [
    "merged_df = merged_df.groupby(['annee', 'departement']).sum()"
   ]
  },
  {
   "cell_type": "code",
   "execution_count": 264,
   "id": "fcdb83d0-e2d6-47b6-be86-1cc753c0e36c",
   "metadata": {},
   "outputs": [],
   "source": [
    "merged_df.to_csv(csv_name, index=True)"
   ]
  },
  {
   "cell_type": "code",
   "execution_count": null,
   "id": "beb2583a-9cc6-4dcd-aaab-11b42abdb10d",
   "metadata": {},
   "outputs": [],
   "source": []
  }
 ],
 "metadata": {
  "kernelspec": {
   "display_name": "Python 3 (ipykernel)",
   "language": "python",
   "name": "python3"
  },
  "language_info": {
   "codemirror_mode": {
    "name": "ipython",
    "version": 3
   },
   "file_extension": ".py",
   "mimetype": "text/x-python",
   "name": "python",
   "nbconvert_exporter": "python",
   "pygments_lexer": "ipython3",
   "version": "3.11.8"
  }
 },
 "nbformat": 4,
 "nbformat_minor": 5
}

{
 "cells": [
  {
   "cell_type": "markdown",
   "id": "ea319eff-3bc0-4f93-8883-89612f981e06",
   "metadata": {},
   "source": [
    "# Setup project"
   ]
  },
  {
   "cell_type": "code",
   "execution_count": 1,
   "id": "095999d5-ca81-4dce-a8e9-a196bd22c8ed",
   "metadata": {},
   "outputs": [],
   "source": [
    "import pandas as pd\n",
    "import numpy as np\n",
    "import re"
   ]
  },
  {
   "cell_type": "code",
   "execution_count": 13,
   "id": "4bbe5a1c-f1da-4c20-9cd8-c2f9253ef305",
   "metadata": {},
   "outputs": [],
   "source": [
    "df_cantons = pd.read_csv('cantons_cleaned.csv')"
   ]
  },
  {
   "cell_type": "code",
   "execution_count": 142,
   "id": "1b5e9dd6-17d5-4be7-afc9-d120508ac0a1",
   "metadata": {},
   "outputs": [],
   "source": [
    "df_20xx = pd.read_csv('reces_2012_canton_ville_D.csv', sep=';', low_memory=False)"
   ]
  },
  {
   "cell_type": "code",
   "execution_count": 143,
   "id": "c0875207-ce52-4040-8603-14b6977e977f",
   "metadata": {},
   "outputs": [],
   "source": [
    "annee = 2012"
   ]
  },
  {
   "cell_type": "code",
   "execution_count": 144,
   "id": "5e9572aa-4922-49fb-ac4d-72e860982ccb",
   "metadata": {},
   "outputs": [],
   "source": [
    "csv_name = \"recens_\" + str(annee) + \".csv\""
   ]
  },
  {
   "cell_type": "markdown",
   "id": "72bf67b9-1c38-42da-8241-051472fb49fa",
   "metadata": {
    "jp-MarkdownHeadingCollapsed": true
   },
   "source": [
    "## Constants"
   ]
  },
  {
   "cell_type": "code",
   "execution_count": 5,
   "id": "d5f67862-8ce9-41c1-a7fb-ced91cc431c8",
   "metadata": {},
   "outputs": [],
   "source": [
    "# used to filter the cantons ds csv (find it on the drive)\n",
    "DEPARTEMENTS = ['16',\n",
    "                '17',\n",
    "                '19',\n",
    "                '23',\n",
    "                '24',\n",
    "                '33',\n",
    "                '40',\n",
    "                '47',\n",
    "                '64',\n",
    "                '79',\n",
    "                '86',\n",
    "                '87']\n",
    "DEPARTEMENTS_INT = [int(numeric_string) for numeric_string in DEPARTEMENTS]"
   ]
  },
  {
   "cell_type": "code",
   "execution_count": 59,
   "id": "e916d7cb-820e-4e19-ae02-f0a5c006bebb",
   "metadata": {},
   "outputs": [],
   "source": [
    "# columns to keep in each pass\n",
    "COLUMNS_TO_KEEPv1 = [\n",
    "    \"annee\",\n",
    "    \"departement\",\n",
    "    \"AGED\",\n",
    "    \"ASCEN\",\n",
    "    \"CATL\",\n",
    "    \"CATPC\",\n",
    "    \"CHFL\",\n",
    "    \"CMBL\",\n",
    "    \"DIPL\",\n",
    "    \"EMPL\",\n",
    "    \"ETUD\",\n",
    "    \"GARL\",\n",
    "    \"HLML\",\n",
    "    \"ILT\",\n",
    "    \"IMMI\",\n",
    "    \"INAI\",\n",
    "    \"INFAM\",\n",
    "    \"LIENF\",\n",
    "    \"MATR\",\n",
    "    \"MOCO\",\n",
    "    \"MODV\",\n",
    "    \"NA17\",\n",
    "    \"NAIDT\",\n",
    "    \"NBPI\",\n",
    "    \"NENFR\",\n",
    "    \"NPERR\",\n",
    "    \"ORIDT\",\n",
    "    \"RECH\",\n",
    "    \"SANI\",\n",
    "    \"SFM\",\n",
    "    \"STOCD\",\n",
    "    \"SURF\",\n",
    "    \"TACTD16\",\n",
    "    \"TP\",\n",
    "    \"TRANS\",\n",
    "    \"TYPL\",\n",
    "    \"VOIT\",\n",
    "]"
   ]
  },
  {
   "cell_type": "code",
   "execution_count": 60,
   "id": "8727b5c1-177b-42e6-84f2-774b2aaff358",
   "metadata": {},
   "outputs": [],
   "source": [
    "# columns to keep in each pass\n",
    "COLUMNS_TO_KEEP = [\n",
    "    \"annee\",\n",
    "    \"departement\",\n",
    "    \"AGED\",\n",
    "    \"ASCEN\",\n",
    "    \"CATL\",\n",
    "    \"CATPC\",\n",
    "    \"CHFL\",\n",
    "    \"CMBL\",\n",
    "#    \"DIPL\",\n",
    "    \"EMPL\",\n",
    "    \"ETUD\",\n",
    "    \"GARL\",\n",
    "    \"HLML\",\n",
    "    \"ILT\",\n",
    "    \"IMMI\",\n",
    "    \"INAI\",\n",
    "    \"INFAM\",\n",
    "    \"LIENF\",\n",
    "#    \"MATR\",\n",
    "    \"MOCO\",\n",
    "    \"MODV\",\n",
    "    \"NA17\",\n",
    "    \"NAIDT\",\n",
    "    \"NBPI\",\n",
    "    \"NENFR\",\n",
    "    \"NPERR\",\n",
    "    \"ORIDT\",\n",
    "    \"RECH\",\n",
    "    \"SANI\",\n",
    "    \"SFM\",\n",
    "    \"STOCD\",\n",
    "    \"SURF\",\n",
    "    \"TACTD16\",\n",
    "    \"TP\",\n",
    "    \"TRANS\",\n",
    "    \"TYPL\",\n",
    "    \"VOIT\",\n",
    "]"
   ]
  },
  {
   "cell_type": "code",
   "execution_count": 7,
   "id": "82248676-63e6-479c-8b4e-e60184181cf1",
   "metadata": {},
   "outputs": [],
   "source": [
    "# columns that need to be transformed to dummies\n",
    "TO_DUMMIES = [\n",
    "    \"ASCEN\",\n",
    "    \"CATL\",\n",
    "    \"CHFL\",\n",
    "    \"CMBL\",\n",
    "    \"DIPL\",\n",
    "    \"EMPL\",\n",
    "    \"GARL\",\n",
    "    \"HLML\",\n",
    "    \"ILT\",\n",
    "    \"INFAM\",\n",
    "    \"LIENF\",\n",
    "    \"NA17\",\n",
    "    \"NBPI\",\n",
    "    \"NENFR\",\n",
    "    \"NPERR\",\n",
    "    \"RECH\",\n",
    "    \"SANI\",\n",
    "    \"SFM\",\n",
    "    \"STOCD\",\n",
    "    \"SURF\",\n",
    "    \"TP\",\n",
    "    \"TRANS\",\n",
    "    \"TYPL\",\n",
    "    \"VOIT\",\n",
    "]"
   ]
  },
  {
   "cell_type": "markdown",
   "id": "5fb956ef-1526-4ee5-ba17-7a83378b317b",
   "metadata": {
    "jp-MarkdownHeadingCollapsed": true
   },
   "source": [
    "# Study dataset"
   ]
  },
  {
   "cell_type": "code",
   "execution_count": null,
   "id": "8a044f55-f1e0-44a0-b1c6-f25672cebeed",
   "metadata": {},
   "outputs": [],
   "source": [
    "df_2010.info()"
   ]
  },
  {
   "cell_type": "code",
   "execution_count": null,
   "id": "d4f638e2-b4a1-40c7-9af2-3bfa59e393a5",
   "metadata": {},
   "outputs": [],
   "source": [
    "df_2010.head()"
   ]
  },
  {
   "cell_type": "code",
   "execution_count": null,
   "id": "f92ca6f0-d45c-44a0-8edd-e6b8f5eb8b87",
   "metadata": {},
   "outputs": [],
   "source": [
    "df_2010['CANTVILLE'].value_counts()"
   ]
  },
  {
   "cell_type": "code",
   "execution_count": null,
   "id": "692ab5f8-5e9c-4b30-8bda-3479b3e24ae3",
   "metadata": {},
   "outputs": [],
   "source": [
    "df_cantons.info()"
   ]
  },
  {
   "cell_type": "markdown",
   "id": "22e407fc-9d87-47cd-8ea4-9fda78ec2486",
   "metadata": {},
   "source": [
    "# Work on dataset"
   ]
  },
  {
   "cell_type": "markdown",
   "id": "89a2e095-0cf6-465d-94e4-41edcc36859e",
   "metadata": {
    "jp-MarkdownHeadingCollapsed": true
   },
   "source": [
    "## Test"
   ]
  },
  {
   "cell_type": "code",
   "execution_count": 8,
   "id": "a5b43741-84de-47e4-8f95-c2ada688f081",
   "metadata": {},
   "outputs": [],
   "source": [
    "# replace next df by this to try pipeline\n",
    "test = df_20xx.sample(n=100)"
   ]
  },
  {
   "cell_type": "markdown",
   "id": "a10e9803-7924-4a0d-90a8-162d2d530d3e",
   "metadata": {},
   "source": [
    "## Work"
   ]
  },
  {
   "cell_type": "code",
   "execution_count": 145,
   "id": "b2ba61db-e85a-4f38-8cb4-659ccfdf7394",
   "metadata": {},
   "outputs": [],
   "source": [
    "# change df used by current_df to test\n",
    "current_df = df_20xx"
   ]
  },
  {
   "cell_type": "code",
   "execution_count": 146,
   "id": "2fbf951c-f1ba-4b15-8b68-20f4f4816512",
   "metadata": {},
   "outputs": [],
   "source": [
    "current_df['annee'] = annee"
   ]
  },
  {
   "cell_type": "code",
   "execution_count": 147,
   "id": "195a54da-0bd2-4e39-9520-6626fe4e13ca",
   "metadata": {},
   "outputs": [],
   "source": [
    "# filter year and extract rows that have a cantville in the Nouvelle-Aquitaine cantons dataset\n",
    "filtered_df = current_df[current_df['CANTVILLE'].isin(df_cantons['Canton-ou-ville'])]"
   ]
  },
  {
   "cell_type": "code",
   "execution_count": 148,
   "id": "42f7a6d7-6436-4fe8-bf4b-303ce7bea249",
   "metadata": {},
   "outputs": [],
   "source": [
    "# merge filtered and cantons df to get cantons departement for each rows of the filtered df\n",
    "merged_df = pd.merge(filtered_df, df_cantons, how='left', left_on='CANTVILLE', right_on='Canton-ou-ville')"
   ]
  },
  {
   "cell_type": "code",
   "execution_count": 149,
   "id": "86ad3c96-f0ae-4428-ba84-b449ab3c4c6a",
   "metadata": {},
   "outputs": [],
   "source": [
    "# rename departement column to match syntax rules\n",
    "merged_df = merged_df.rename(columns={\n",
    "    'Département': 'departement'\n",
    "})"
   ]
  },
  {
   "cell_type": "code",
   "execution_count": 150,
   "id": "2fa7500b-e071-4bde-94b4-80dbfa5262a6",
   "metadata": {},
   "outputs": [],
   "source": [
    "# filter again the df to keep allowed columns\n",
    "merged_df = merged_df.loc[:, COLUMNS_TO_KEEP]"
   ]
  },
  {
   "cell_type": "code",
   "execution_count": 151,
   "id": "81be9e42-c08f-4322-bc41-49010a1e6db1",
   "metadata": {},
   "outputs": [
    {
     "data": {
      "text/html": [
       "<div>\n",
       "<style scoped>\n",
       "    .dataframe tbody tr th:only-of-type {\n",
       "        vertical-align: middle;\n",
       "    }\n",
       "\n",
       "    .dataframe tbody tr th {\n",
       "        vertical-align: top;\n",
       "    }\n",
       "\n",
       "    .dataframe thead th {\n",
       "        text-align: right;\n",
       "    }\n",
       "</style>\n",
       "<table border=\"1\" class=\"dataframe\">\n",
       "  <thead>\n",
       "    <tr style=\"text-align: right;\">\n",
       "      <th></th>\n",
       "      <th>annee</th>\n",
       "      <th>departement</th>\n",
       "      <th>AGED</th>\n",
       "      <th>ASCEN</th>\n",
       "      <th>CATL</th>\n",
       "      <th>CATPC</th>\n",
       "      <th>CHFL</th>\n",
       "      <th>CMBL</th>\n",
       "      <th>EMPL</th>\n",
       "      <th>ETUD</th>\n",
       "      <th>...</th>\n",
       "      <th>RECH</th>\n",
       "      <th>SANI</th>\n",
       "      <th>SFM</th>\n",
       "      <th>STOCD</th>\n",
       "      <th>SURF</th>\n",
       "      <th>TACTD16</th>\n",
       "      <th>TP</th>\n",
       "      <th>TRANS</th>\n",
       "      <th>TYPL</th>\n",
       "      <th>VOIT</th>\n",
       "    </tr>\n",
       "  </thead>\n",
       "  <tbody>\n",
       "    <tr>\n",
       "      <th>0</th>\n",
       "      <td>2012</td>\n",
       "      <td>19</td>\n",
       "      <td>23</td>\n",
       "      <td>2</td>\n",
       "      <td>1</td>\n",
       "      <td>0</td>\n",
       "      <td>3</td>\n",
       "      <td>4</td>\n",
       "      <td>16</td>\n",
       "      <td>2</td>\n",
       "      <td>...</td>\n",
       "      <td>Z</td>\n",
       "      <td>2</td>\n",
       "      <td>11</td>\n",
       "      <td>21</td>\n",
       "      <td>2</td>\n",
       "      <td>111</td>\n",
       "      <td>1</td>\n",
       "      <td>2</td>\n",
       "      <td>2</td>\n",
       "      <td>1</td>\n",
       "    </tr>\n",
       "    <tr>\n",
       "      <th>1</th>\n",
       "      <td>2012</td>\n",
       "      <td>19</td>\n",
       "      <td>76</td>\n",
       "      <td>2</td>\n",
       "      <td>1</td>\n",
       "      <td>0</td>\n",
       "      <td>1</td>\n",
       "      <td>3</td>\n",
       "      <td>ZZ</td>\n",
       "      <td>2</td>\n",
       "      <td>...</td>\n",
       "      <td>0</td>\n",
       "      <td>2</td>\n",
       "      <td>12</td>\n",
       "      <td>21</td>\n",
       "      <td>1</td>\n",
       "      <td>210</td>\n",
       "      <td>Z</td>\n",
       "      <td>Z</td>\n",
       "      <td>2</td>\n",
       "      <td>0</td>\n",
       "    </tr>\n",
       "    <tr>\n",
       "      <th>2</th>\n",
       "      <td>2012</td>\n",
       "      <td>19</td>\n",
       "      <td>45</td>\n",
       "      <td>2</td>\n",
       "      <td>1</td>\n",
       "      <td>0</td>\n",
       "      <td>2</td>\n",
       "      <td>3</td>\n",
       "      <td>22</td>\n",
       "      <td>2</td>\n",
       "      <td>...</td>\n",
       "      <td>Z</td>\n",
       "      <td>2</td>\n",
       "      <td>32</td>\n",
       "      <td>10</td>\n",
       "      <td>3</td>\n",
       "      <td>111</td>\n",
       "      <td>1</td>\n",
       "      <td>4</td>\n",
       "      <td>1</td>\n",
       "      <td>2</td>\n",
       "    </tr>\n",
       "    <tr>\n",
       "      <th>3</th>\n",
       "      <td>2012</td>\n",
       "      <td>19</td>\n",
       "      <td>13</td>\n",
       "      <td>2</td>\n",
       "      <td>1</td>\n",
       "      <td>0</td>\n",
       "      <td>2</td>\n",
       "      <td>3</td>\n",
       "      <td>ZZ</td>\n",
       "      <td>1</td>\n",
       "      <td>...</td>\n",
       "      <td>Z</td>\n",
       "      <td>2</td>\n",
       "      <td>32</td>\n",
       "      <td>10</td>\n",
       "      <td>3</td>\n",
       "      <td>230</td>\n",
       "      <td>Z</td>\n",
       "      <td>Z</td>\n",
       "      <td>1</td>\n",
       "      <td>2</td>\n",
       "    </tr>\n",
       "    <tr>\n",
       "      <th>4</th>\n",
       "      <td>2012</td>\n",
       "      <td>19</td>\n",
       "      <td>16</td>\n",
       "      <td>2</td>\n",
       "      <td>1</td>\n",
       "      <td>0</td>\n",
       "      <td>2</td>\n",
       "      <td>3</td>\n",
       "      <td>ZZ</td>\n",
       "      <td>1</td>\n",
       "      <td>...</td>\n",
       "      <td>0</td>\n",
       "      <td>2</td>\n",
       "      <td>32</td>\n",
       "      <td>10</td>\n",
       "      <td>3</td>\n",
       "      <td>220</td>\n",
       "      <td>Z</td>\n",
       "      <td>Z</td>\n",
       "      <td>1</td>\n",
       "      <td>2</td>\n",
       "    </tr>\n",
       "  </tbody>\n",
       "</table>\n",
       "<p>5 rows × 35 columns</p>\n",
       "</div>"
      ],
      "text/plain": [
       "   annee  departement  AGED ASCEN CATL  CATPC CHFL CMBL EMPL  ETUD  ... RECH  \\\n",
       "0   2012           19    23     2    1      0    3    4   16     2  ...    Z   \n",
       "1   2012           19    76     2    1      0    1    3   ZZ     2  ...    0   \n",
       "2   2012           19    45     2    1      0    2    3   22     2  ...    Z   \n",
       "3   2012           19    13     2    1      0    2    3   ZZ     1  ...    Z   \n",
       "4   2012           19    16     2    1      0    2    3   ZZ     1  ...    0   \n",
       "\n",
       "  SANI SFM  STOCD  SURF TACTD16 TP  TRANS  TYPL VOIT  \n",
       "0    2  11     21     2     111  1      2     2    1  \n",
       "1    2  12     21     1     210  Z      Z     2    0  \n",
       "2    2  32     10     3     111  1      4     1    2  \n",
       "3    2  32     10     3     230  Z      Z     1    2  \n",
       "4    2  32     10     3     220  Z      Z     1    2  \n",
       "\n",
       "[5 rows x 35 columns]"
      ]
     },
     "execution_count": 151,
     "metadata": {},
     "output_type": "execute_result"
    }
   ],
   "source": [
    "merged_df.head()"
   ]
  },
  {
   "cell_type": "code",
   "execution_count": 152,
   "id": "fcdb83d0-e2d6-47b6-be86-1cc753c0e36c",
   "metadata": {},
   "outputs": [],
   "source": [
    "merged_df.to_csv(csv_name, index=False)"
   ]
  },
  {
   "cell_type": "code",
   "execution_count": null,
   "id": "d0b3c1c9-a422-43a3-81a5-628e5eca5b02",
   "metadata": {},
   "outputs": [],
   "source": []
  }
 ],
 "metadata": {
  "kernelspec": {
   "display_name": "Python 3 (ipykernel)",
   "language": "python",
   "name": "python3"
  },
  "language_info": {
   "codemirror_mode": {
    "name": "ipython",
    "version": 3
   },
   "file_extension": ".py",
   "mimetype": "text/x-python",
   "name": "python",
   "nbconvert_exporter": "python",
   "pygments_lexer": "ipython3",
   "version": "3.11.8"
  }
 },
 "nbformat": 4,
 "nbformat_minor": 5
}

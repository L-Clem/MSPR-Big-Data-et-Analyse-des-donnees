{
 "cells": [
  {
   "cell_type": "markdown",
   "id": "ea319eff-3bc0-4f93-8883-89612f981e06",
   "metadata": {},
   "source": [
    "# Setup project"
   ]
  },
  {
   "cell_type": "code",
   "execution_count": 1,
   "id": "095999d5-ca81-4dce-a8e9-a196bd22c8ed",
   "metadata": {},
   "outputs": [],
   "source": [
    "import pandas as pd\n",
    "import numpy as np\n",
    "import re"
   ]
  },
  {
   "cell_type": "code",
   "execution_count": 2,
   "id": "1b5e9dd6-17d5-4be7-afc9-d120508ac0a1",
   "metadata": {},
   "outputs": [],
   "source": [
    "df_2010 = pd.read_csv('reces_2010_canton_ville_D.csv', sep=';', low_memory=False)"
   ]
  },
  {
   "cell_type": "code",
   "execution_count": 3,
   "id": "4bbe5a1c-f1da-4c20-9cd8-c2f9253ef305",
   "metadata": {},
   "outputs": [],
   "source": [
    "df_cantons = pd.read_csv('cantons_cleaned.csv')"
   ]
  },
  {
   "cell_type": "code",
   "execution_count": 51,
   "id": "d5f67862-8ce9-41c1-a7fb-ced91cc431c8",
   "metadata": {},
   "outputs": [],
   "source": [
    "# used to filter the cantons ds csv (find it on the drive)\n",
    "DEPARTEMENTS = ['16',\n",
    "                '17',\n",
    "                '19',\n",
    "                '23',\n",
    "                '24',\n",
    "                '33',\n",
    "                '40',\n",
    "                '47',\n",
    "                '64',\n",
    "                '79',\n",
    "                '86',\n",
    "                '87']\n",
    "DEPARTEMENTS_INT = [int(numeric_string) for numeric_string in DEPARTEMENTS]"
   ]
  },
  {
   "cell_type": "code",
   "execution_count": 52,
   "id": "e916d7cb-820e-4e19-ae02-f0a5c006bebb",
   "metadata": {},
   "outputs": [],
   "source": [
    "# columns to keep in each pass\n",
    "COLUMNS_TO_KEEP = [\n",
    "    \"annee\",\n",
    "    \"departement\",\n",
    "    \"AGED\",\n",
    "    \"ASCEN\",\n",
    "    \"CATL\",\n",
    "    \"CATPC\",\n",
    "    \"CHFL\",\n",
    "    \"CMBL\",\n",
    "    \"DIPL\",\n",
    "    \"EMPL\",\n",
    "    \"ETUD\",\n",
    "    \"GARL\",\n",
    "    \"HLML\",\n",
    "    \"ILT\",\n",
    "    \"IMMI\",\n",
    "    \"INAI\",\n",
    "    \"INFAM\",\n",
    "    \"LIENF\",\n",
    "    \"MATR\",\n",
    "    \"MOCO\",\n",
    "    \"MODV\",\n",
    "    \"NA17\",\n",
    "    \"NAIDT\",\n",
    "    \"NBPI\",\n",
    "    \"NENFR\",\n",
    "    \"NPERR\",\n",
    "    \"ORIDT\",\n",
    "    \"RECH\",\n",
    "    \"SANI\",\n",
    "    \"SFM\",\n",
    "    \"STOCD\",\n",
    "    \"SURF\",\n",
    "    \"TACTD16\",\n",
    "    \"TP\",\n",
    "    \"TRANS\",\n",
    "    \"TYPL\",\n",
    "    \"VOIT\",\n",
    "]"
   ]
  },
  {
   "cell_type": "code",
   "execution_count": 63,
   "id": "82248676-63e6-479c-8b4e-e60184181cf1",
   "metadata": {},
   "outputs": [],
   "source": [
    "# columns that need to be transformed to dummies\n",
    "TO_DUMMIES = [\n",
    "    \"ASCEN\",\n",
    "    \"CATL\",\n",
    "    \"CHFL\",\n",
    "    \"CMBL\",\n",
    "    \"DIPL\",\n",
    "    \"EMPL\",\n",
    "    \"GARL\",\n",
    "    \"HLML\",\n",
    "    \"ILT\",\n",
    "    \"INFAM\",\n",
    "    \"LIENF\",\n",
    "    \"NA17\",\n",
    "    \"NBPI\",\n",
    "    \"NENFR\",\n",
    "    \"NPERR\",\n",
    "    \"RECH\",\n",
    "    \"SANI\",\n",
    "    \"SFM\",\n",
    "    \"STOCD\",\n",
    "    \"SURF\",\n",
    "    \"TP\",\n",
    "    \"TRANS\",\n",
    "    \"TYPL\",\n",
    "    \"VOIT\",\n",
    "]"
   ]
  },
  {
   "cell_type": "markdown",
   "id": "5fb956ef-1526-4ee5-ba17-7a83378b317b",
   "metadata": {
    "jp-MarkdownHeadingCollapsed": true
   },
   "source": [
    "# Study dataset"
   ]
  },
  {
   "cell_type": "code",
   "execution_count": 11,
   "id": "8a044f55-f1e0-44a0-b1c6-f25672cebeed",
   "metadata": {},
   "outputs": [
    {
     "name": "stdout",
     "output_type": "stream",
     "text": [
      "<class 'pandas.core.frame.DataFrame'>\n",
      "RangeIndex: 4311337 entries, 0 to 4311336\n",
      "Data columns (total 89 columns):\n",
      " #   Column       Dtype  \n",
      "---  ------       -----  \n",
      " 0   CANTVILLE    int64  \n",
      " 1   NUMMI        object \n",
      " 2   AEMMR        object \n",
      " 3   AGED         int64  \n",
      " 4   AGER20       int64  \n",
      " 5   AGEREV       int64  \n",
      " 6   AGEREVQ      int64  \n",
      " 7   ANAI         int64  \n",
      " 8   ANEMR        object \n",
      " 9   APAF         object \n",
      " 10  ARM          object \n",
      " 11  ASCEN        object \n",
      " 12  BAIN         object \n",
      " 13  BATI         object \n",
      " 14  CATIRIS      object \n",
      " 15  CATL         object \n",
      " 16  CATPC        int64  \n",
      " 17  CHAU         object \n",
      " 18  CHFL         object \n",
      " 19  CHOS         object \n",
      " 20  CLIM         object \n",
      " 21  CMBL         object \n",
      " 22  COUPLE       int64  \n",
      " 23  CS1          int64  \n",
      " 24  CUIS         object \n",
      " 25  DEPT         int64  \n",
      " 26  DEROU        object \n",
      " 27  DIPL         object \n",
      " 28  DNAI         object \n",
      " 29  EAU          object \n",
      " 30  EGOUL        object \n",
      " 31  ELEC         object \n",
      " 32  EMPL         object \n",
      " 33  ETUD         int64  \n",
      " 34  GARL         object \n",
      " 35  HLML         object \n",
      " 36  ILETUD       object \n",
      " 37  ILT          object \n",
      " 38  IMMI         int64  \n",
      " 39  INAI         int64  \n",
      " 40  INATC        int64  \n",
      " 41  INFAM        object \n",
      " 42  INPER        object \n",
      " 43  INPERF       object \n",
      " 44  IPONDI       object \n",
      " 45  IRIS         object \n",
      " 46  LIENF        object \n",
      " 47  LPRF         object \n",
      " 48  LPRM         object \n",
      " 49  MATR         int64  \n",
      " 50  METRODOM     object \n",
      " 51  MOCO         int64  \n",
      " 52  MODV         int64  \n",
      " 53  NA17         object \n",
      " 54  NA5          object \n",
      " 55  NAIDT        int64  \n",
      " 56  NBPI         object \n",
      " 57  NE18FR       object \n",
      " 58  NE24FR       object \n",
      " 59  NE3FR        object \n",
      " 60  NE6FR        object \n",
      " 61  NENFR        object \n",
      " 62  NPERR        object \n",
      " 63  NUMF         object \n",
      " 64  ORIDT        int64  \n",
      " 65  RECH         object \n",
      " 66  REGION       int64  \n",
      " 67  SANI         object \n",
      " 68  SANIDOM      object \n",
      " 69  SEXE         int64  \n",
      " 70  SFM          object \n",
      " 71  STATR        object \n",
      " 72  STOCD        object \n",
      " 73  SURF         object \n",
      " 74  TACT         int64  \n",
      " 75  TACTD16      int64  \n",
      " 76  TACTMF       object \n",
      " 77  TACTPF       object \n",
      " 78  TP           object \n",
      " 79  TRANS        object \n",
      " 80  TRIRIS       object \n",
      " 81  TYPC         object \n",
      " 82  TYPFC        object \n",
      " 83  TYPL         object \n",
      " 84  TYPMC        object \n",
      " 85  TYPMR        object \n",
      " 86  VOIT         object \n",
      " 87  WC           object \n",
      " 88  departement  float64\n",
      "dtypes: float64(1), int64(23), object(65)\n",
      "memory usage: 2.9+ GB\n"
     ]
    }
   ],
   "source": [
    "df_2010.info()"
   ]
  },
  {
   "cell_type": "code",
   "execution_count": 6,
   "id": "d4f638e2-b4a1-40c7-9af2-3bfa59e393a5",
   "metadata": {},
   "outputs": [
    {
     "data": {
      "text/html": [
       "<div>\n",
       "<style scoped>\n",
       "    .dataframe tbody tr th:only-of-type {\n",
       "        vertical-align: middle;\n",
       "    }\n",
       "\n",
       "    .dataframe tbody tr th {\n",
       "        vertical-align: top;\n",
       "    }\n",
       "\n",
       "    .dataframe thead th {\n",
       "        text-align: right;\n",
       "    }\n",
       "</style>\n",
       "<table border=\"1\" class=\"dataframe\">\n",
       "  <thead>\n",
       "    <tr style=\"text-align: right;\">\n",
       "      <th></th>\n",
       "      <th>CANTVILLE</th>\n",
       "      <th>NUMMI</th>\n",
       "      <th>AEMMR</th>\n",
       "      <th>AGED</th>\n",
       "      <th>AGER20</th>\n",
       "      <th>AGEREV</th>\n",
       "      <th>AGEREVQ</th>\n",
       "      <th>ANAI</th>\n",
       "      <th>ANEMR</th>\n",
       "      <th>APAF</th>\n",
       "      <th>...</th>\n",
       "      <th>TP</th>\n",
       "      <th>TRANS</th>\n",
       "      <th>TRIRIS</th>\n",
       "      <th>TYPC</th>\n",
       "      <th>TYPFC</th>\n",
       "      <th>TYPL</th>\n",
       "      <th>TYPMC</th>\n",
       "      <th>TYPMR</th>\n",
       "      <th>VOIT</th>\n",
       "      <th>WC</th>\n",
       "    </tr>\n",
       "  </thead>\n",
       "  <tbody>\n",
       "    <tr>\n",
       "      <th>0</th>\n",
       "      <td>101</td>\n",
       "      <td>1</td>\n",
       "      <td>6</td>\n",
       "      <td>58</td>\n",
       "      <td>64</td>\n",
       "      <td>57</td>\n",
       "      <td>55</td>\n",
       "      <td>1950</td>\n",
       "      <td>05</td>\n",
       "      <td>0</td>\n",
       "      <td>...</td>\n",
       "      <td>Z</td>\n",
       "      <td>Z</td>\n",
       "      <td>ZZZZZZ</td>\n",
       "      <td>2</td>\n",
       "      <td>Z</td>\n",
       "      <td>1</td>\n",
       "      <td>1</td>\n",
       "      <td>12</td>\n",
       "      <td>1</td>\n",
       "      <td>Z</td>\n",
       "    </tr>\n",
       "    <tr>\n",
       "      <th>1</th>\n",
       "      <td>101</td>\n",
       "      <td>2</td>\n",
       "      <td>6</td>\n",
       "      <td>55</td>\n",
       "      <td>54</td>\n",
       "      <td>54</td>\n",
       "      <td>50</td>\n",
       "      <td>1955</td>\n",
       "      <td>05</td>\n",
       "      <td>2</td>\n",
       "      <td>...</td>\n",
       "      <td>1</td>\n",
       "      <td>4</td>\n",
       "      <td>ZZZZZZ</td>\n",
       "      <td>1</td>\n",
       "      <td>2</td>\n",
       "      <td>1</td>\n",
       "      <td>4</td>\n",
       "      <td>41</td>\n",
       "      <td>3</td>\n",
       "      <td>Z</td>\n",
       "    </tr>\n",
       "    <tr>\n",
       "      <th>2</th>\n",
       "      <td>101</td>\n",
       "      <td>2</td>\n",
       "      <td>6</td>\n",
       "      <td>55</td>\n",
       "      <td>54</td>\n",
       "      <td>54</td>\n",
       "      <td>50</td>\n",
       "      <td>1955</td>\n",
       "      <td>05</td>\n",
       "      <td>1</td>\n",
       "      <td>...</td>\n",
       "      <td>1</td>\n",
       "      <td>4</td>\n",
       "      <td>ZZZZZZ</td>\n",
       "      <td>1</td>\n",
       "      <td>2</td>\n",
       "      <td>1</td>\n",
       "      <td>4</td>\n",
       "      <td>41</td>\n",
       "      <td>3</td>\n",
       "      <td>Z</td>\n",
       "    </tr>\n",
       "    <tr>\n",
       "      <th>3</th>\n",
       "      <td>101</td>\n",
       "      <td>3</td>\n",
       "      <td>9</td>\n",
       "      <td>45</td>\n",
       "      <td>54</td>\n",
       "      <td>44</td>\n",
       "      <td>40</td>\n",
       "      <td>1963</td>\n",
       "      <td>01</td>\n",
       "      <td>0</td>\n",
       "      <td>...</td>\n",
       "      <td>1</td>\n",
       "      <td>2</td>\n",
       "      <td>ZZZZZZ</td>\n",
       "      <td>2</td>\n",
       "      <td>Z</td>\n",
       "      <td>1</td>\n",
       "      <td>1</td>\n",
       "      <td>12</td>\n",
       "      <td>1</td>\n",
       "      <td>Z</td>\n",
       "    </tr>\n",
       "    <tr>\n",
       "      <th>4</th>\n",
       "      <td>101</td>\n",
       "      <td>4</td>\n",
       "      <td>9</td>\n",
       "      <td>58</td>\n",
       "      <td>64</td>\n",
       "      <td>57</td>\n",
       "      <td>55</td>\n",
       "      <td>1953</td>\n",
       "      <td>01</td>\n",
       "      <td>0</td>\n",
       "      <td>...</td>\n",
       "      <td>1</td>\n",
       "      <td>5</td>\n",
       "      <td>ZZZZZZ</td>\n",
       "      <td>3</td>\n",
       "      <td>Z</td>\n",
       "      <td>2</td>\n",
       "      <td>1</td>\n",
       "      <td>11</td>\n",
       "      <td>1</td>\n",
       "      <td>Z</td>\n",
       "    </tr>\n",
       "  </tbody>\n",
       "</table>\n",
       "<p>5 rows × 88 columns</p>\n",
       "</div>"
      ],
      "text/plain": [
       "   CANTVILLE NUMMI AEMMR  AGED  AGER20  AGEREV  AGEREVQ  ANAI ANEMR APAF  ...  \\\n",
       "0        101     1     6    58      64      57       55  1950    05    0  ...   \n",
       "1        101     2     6    55      54      54       50  1955    05    2  ...   \n",
       "2        101     2     6    55      54      54       50  1955    05    1  ...   \n",
       "3        101     3     9    45      54      44       40  1963    01    0  ...   \n",
       "4        101     4     9    58      64      57       55  1953    01    0  ...   \n",
       "\n",
       "  TP TRANS  TRIRIS TYPC TYPFC TYPL  TYPMC TYPMR VOIT WC  \n",
       "0  Z     Z  ZZZZZZ    2     Z    1      1    12    1  Z  \n",
       "1  1     4  ZZZZZZ    1     2    1      4    41    3  Z  \n",
       "2  1     4  ZZZZZZ    1     2    1      4    41    3  Z  \n",
       "3  1     2  ZZZZZZ    2     Z    1      1    12    1  Z  \n",
       "4  1     5  ZZZZZZ    3     Z    2      1    11    1  Z  \n",
       "\n",
       "[5 rows x 88 columns]"
      ]
     },
     "execution_count": 6,
     "metadata": {},
     "output_type": "execute_result"
    }
   ],
   "source": [
    "df_2010.head()"
   ]
  },
  {
   "cell_type": "code",
   "execution_count": 7,
   "id": "f92ca6f0-d45c-44a0-8edd-e6b8f5eb8b87",
   "metadata": {},
   "outputs": [
    {
     "data": {
      "text/plain": [
       "CANTVILLE\n",
       "6999    183960\n",
       "3199    168310\n",
       "3399     91213\n",
       "4299     64985\n",
       "3898     61222\n",
       "         ...  \n",
       "8103       158\n",
       "913        137\n",
       "3893       116\n",
       "4398        42\n",
       "8140        35\n",
       "Name: count, Length: 1082, dtype: int64"
      ]
     },
     "execution_count": 7,
     "metadata": {},
     "output_type": "execute_result"
    }
   ],
   "source": [
    "df_2010['CANTVILLE'].value_counts()"
   ]
  },
  {
   "cell_type": "code",
   "execution_count": 8,
   "id": "692ab5f8-5e9c-4b30-8bda-3479b3e24ae3",
   "metadata": {},
   "outputs": [
    {
     "name": "stdout",
     "output_type": "stream",
     "text": [
      "<class 'pandas.core.frame.DataFrame'>\n",
      "RangeIndex: 255 entries, 0 to 254\n",
      "Data columns (total 2 columns):\n",
      " #   Column           Non-Null Count  Dtype\n",
      "---  ------           --------------  -----\n",
      " 0   Département      255 non-null    int64\n",
      " 1   Canton-ou-ville  255 non-null    int64\n",
      "dtypes: int64(2)\n",
      "memory usage: 4.1 KB\n"
     ]
    }
   ],
   "source": [
    "df_cantons.info()"
   ]
  },
  {
   "cell_type": "markdown",
   "id": "22e407fc-9d87-47cd-8ea4-9fda78ec2486",
   "metadata": {},
   "source": [
    "# Work on dataset"
   ]
  },
  {
   "cell_type": "markdown",
   "id": "89a2e095-0cf6-465d-94e4-41edcc36859e",
   "metadata": {},
   "source": [
    "## Test"
   ]
  },
  {
   "cell_type": "code",
   "execution_count": 36,
   "id": "a5b43741-84de-47e4-8f95-c2ada688f081",
   "metadata": {},
   "outputs": [],
   "source": [
    "# replace next df by this to try pipeline\n",
    "test = df_2010.sample(n=100)"
   ]
  },
  {
   "cell_type": "markdown",
   "id": "a10e9803-7924-4a0d-90a8-162d2d530d3e",
   "metadata": {},
   "source": [
    "## Work"
   ]
  },
  {
   "cell_type": "code",
   "execution_count": 37,
   "id": "b2ba61db-e85a-4f38-8cb4-659ccfdf7394",
   "metadata": {},
   "outputs": [],
   "source": [
    "# change df used by current_df to test\n",
    "current_df = df_2010"
   ]
  },
  {
   "cell_type": "code",
   "execution_count": 38,
   "id": "2fbf951c-f1ba-4b15-8b68-20f4f4816512",
   "metadata": {},
   "outputs": [],
   "source": [
    "current_df['annee'] = 2010"
   ]
  },
  {
   "cell_type": "code",
   "execution_count": 41,
   "id": "195a54da-0bd2-4e39-9520-6626fe4e13ca",
   "metadata": {},
   "outputs": [],
   "source": [
    "# filter year and extract rows that have a cantville in the Nouvelle-Aquitaine cantons dataset\n",
    "filtered_df = current_df[current_df['CANTVILLE'].isin(df_cantons['Canton-ou-ville'])]"
   ]
  },
  {
   "cell_type": "code",
   "execution_count": 45,
   "id": "42f7a6d7-6436-4fe8-bf4b-303ce7bea249",
   "metadata": {},
   "outputs": [],
   "source": [
    "# merge filtered and cantons df to get cantons departement for each rows of the filtered df\n",
    "merged_df = pd.merge(filtered_df, df_cantons, how='left', left_on='CANTVILLE', right_on='Canton-ou-ville')"
   ]
  },
  {
   "cell_type": "code",
   "execution_count": 48,
   "id": "86ad3c96-f0ae-4428-ba84-b449ab3c4c6a",
   "metadata": {},
   "outputs": [],
   "source": [
    "# rename departement column to match syntax rules\n",
    "merged_df = merged_df.rename(columns={\n",
    "    'Département': 'departement'\n",
    "})"
   ]
  },
  {
   "cell_type": "code",
   "execution_count": 53,
   "id": "2fa7500b-e071-4bde-94b4-80dbfa5262a6",
   "metadata": {},
   "outputs": [],
   "source": [
    "# filter again the df to keep allowed columns\n",
    "merged_df = merged_df.loc[:, COLUMNS_TO_KEEP]"
   ]
  },
  {
   "cell_type": "code",
   "execution_count": 58,
   "id": "8fffcc40-6062-4793-93b3-121453dd2dab",
   "metadata": {},
   "outputs": [
    {
     "data": {
      "text/plain": [
       "departement\n",
       "33    241408\n",
       "64    105942\n",
       "87     78271\n",
       "47     54666\n",
       "40     50070\n",
       "24     31822\n",
       "19     27463\n",
       "23     15640\n",
       "Name: count, dtype: int64"
      ]
     },
     "execution_count": 58,
     "metadata": {},
     "output_type": "execute_result"
    }
   ],
   "source": [
    "merged_df['departement'].value_counts()"
   ]
  },
  {
   "cell_type": "code",
   "execution_count": 60,
   "id": "81be9e42-c08f-4322-bc41-49010a1e6db1",
   "metadata": {},
   "outputs": [
    {
     "name": "stdout",
     "output_type": "stream",
     "text": [
      "<class 'pandas.core.frame.DataFrame'>\n",
      "RangeIndex: 605282 entries, 0 to 605281\n",
      "Data columns (total 37 columns):\n",
      " #   Column       Non-Null Count   Dtype \n",
      "---  ------       --------------   ----- \n",
      " 0   annee        605282 non-null  int64 \n",
      " 1   departement  605282 non-null  int64 \n",
      " 2   AGED         605282 non-null  int64 \n",
      " 3   ASCEN        605282 non-null  object\n",
      " 4   CATL         605282 non-null  object\n",
      " 5   CATPC        605282 non-null  int64 \n",
      " 6   CHFL         605282 non-null  object\n",
      " 7   CMBL         605282 non-null  object\n",
      " 8   DIPL         605282 non-null  object\n",
      " 9   EMPL         605282 non-null  object\n",
      " 10  ETUD         605282 non-null  int64 \n",
      " 11  GARL         605282 non-null  object\n",
      " 12  HLML         605282 non-null  object\n",
      " 13  ILT          605282 non-null  object\n",
      " 14  IMMI         605282 non-null  int64 \n",
      " 15  INAI         605282 non-null  int64 \n",
      " 16  INFAM        605282 non-null  object\n",
      " 17  LIENF        605282 non-null  object\n",
      " 18  MATR         605282 non-null  int64 \n",
      " 19  MOCO         605282 non-null  int64 \n",
      " 20  MODV         605282 non-null  int64 \n",
      " 21  NA17         605282 non-null  object\n",
      " 22  NAIDT        605282 non-null  int64 \n",
      " 23  NBPI         605282 non-null  object\n",
      " 24  NENFR        605282 non-null  object\n",
      " 25  NPERR        605282 non-null  object\n",
      " 26  ORIDT        605282 non-null  int64 \n",
      " 27  RECH         605282 non-null  object\n",
      " 28  SANI         605282 non-null  object\n",
      " 29  SFM          605282 non-null  object\n",
      " 30  STOCD        605282 non-null  object\n",
      " 31  SURF         605282 non-null  object\n",
      " 32  TACTD16      605282 non-null  int64 \n",
      " 33  TP           605282 non-null  object\n",
      " 34  TRANS        605282 non-null  object\n",
      " 35  TYPL         605282 non-null  object\n",
      " 36  VOIT         605282 non-null  object\n",
      "dtypes: int64(13), object(24)\n",
      "memory usage: 170.9+ MB\n"
     ]
    }
   ],
   "source": [
    "merged_df.info()"
   ]
  },
  {
   "cell_type": "code",
   "execution_count": null,
   "id": "fcdb83d0-e2d6-47b6-be86-1cc753c0e36c",
   "metadata": {},
   "outputs": [],
   "source": [
    "TO_DUMMIES = [\n",
    "    \"ASCEN\",\n",
    "    \"CATL\",\n",
    "    \"CHFL\",\n",
    "    \"CMBL\",\n",
    "    \"DIPL\",\n",
    "    \"EMPL\",\n",
    "    \"GARL\",\n",
    "    \"HLML\",\n",
    "    \"ILT\",\n",
    "    \"INFAM\",\n",
    "    \"LIENF\",\n",
    "    \"NA17\",\n",
    "    \"NBPI\",\n",
    "    \"NENFR\",\n",
    "    \"NPERR\",\n",
    "    \"RECH\",\n",
    "    \"SANI\",\n",
    "    \"SFM\",\n",
    "    \"STOCD\",\n",
    "    \"SURF\",\n",
    "    \"TP\",\n",
    "    \"TRANS\",\n",
    "    \"TYPL\",\n",
    "    \"VOIT\",\n",
    "]"
   ]
  }
 ],
 "metadata": {
  "kernelspec": {
   "display_name": "Python 3 (ipykernel)",
   "language": "python",
   "name": "python3"
  },
  "language_info": {
   "codemirror_mode": {
    "name": "ipython",
    "version": 3
   },
   "file_extension": ".py",
   "mimetype": "text/x-python",
   "name": "python",
   "nbconvert_exporter": "python",
   "pygments_lexer": "ipython3",
   "version": "3.11.8"
  }
 },
 "nbformat": 4,
 "nbformat_minor": 5
}

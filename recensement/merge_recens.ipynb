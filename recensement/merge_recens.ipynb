{
 "cells": [
  {
   "cell_type": "code",
   "execution_count": 3,
   "id": "22b3ab59-3442-421c-b64b-cea4234b373c",
   "metadata": {},
   "outputs": [],
   "source": [
    "import pandas as pd\n",
    "import numpy as np\n",
    "import re"
   ]
  },
  {
   "cell_type": "code",
   "execution_count": 4,
   "id": "2e9442eb-3834-430a-b59c-4c5949d18de3",
   "metadata": {},
   "outputs": [],
   "source": [
    "name = \"recens\""
   ]
  },
  {
   "cell_type": "code",
   "execution_count": 50,
   "id": "cbe65a29-9845-4396-a33e-afabce7ec6d0",
   "metadata": {},
   "outputs": [],
   "source": [
    "df_2006 = pd.read_csv(name + '_2006.csv', low_memory=False).astype('int64')\n",
    "df_2007 = pd.read_csv(name + '_2007.csv', low_memory=False).astype('int64')\n",
    "df_2008 = pd.read_csv(name + '_2008.csv', low_memory=False).astype('int64')\n",
    "df_2009 = pd.read_csv(name + '_2009.csv', low_memory=False).astype('int64')\n",
    "df_2010 = pd.read_csv(name + '_2010.csv', low_memory=False).astype('int64')\n",
    "df_2011 = pd.read_csv(name + '_2011.csv', low_memory=False).astype('int64')\n",
    "df_2012 = pd.read_csv(name + '_2012.csv', low_memory=False).astype('int64')\n",
    "df_2013 = pd.read_csv(name + '_2013.csv', low_memory=False).astype('int64')\n",
    "df_2014 = pd.read_csv(name + '_2014.csv', low_memory=False).astype('int64')\n",
    "df_2015 = pd.read_csv(name + '_2015.csv', low_memory=False).astype('int64')\n",
    "df_2016 = pd.read_csv(name + '_2016.csv', low_memory=False).astype('int64')\n",
    "df_2017 = pd.read_csv(name + '_2017.csv', low_memory=False).astype('int64')\n",
    "df_2018 = pd.read_csv(name + '_2018.csv', low_memory=False).astype('int64')\n",
    "df_2019 = pd.read_csv(name + '_2019.csv', low_memory=False).astype('int64')\n",
    "df_2020 = pd.read_csv(name + '_2020.csv', low_memory=False).astype('int64')"
   ]
  },
  {
   "cell_type": "code",
   "execution_count": 51,
   "id": "d26f4157-4d7d-4483-9f82-3513aad8d81f",
   "metadata": {},
   "outputs": [],
   "source": [
    "dfs = [df_2006, df_2007, df_2008, df_2009, df_2010, df_2011, df_2012, df_2013, df_2014, df_2015, df_2016, df_2017, df_2018, df_2019, df_2020]"
   ]
  },
  {
   "cell_type": "code",
   "execution_count": 58,
   "id": "51475bdf-b9cc-4a29-a639-6e9c1342660a",
   "metadata": {},
   "outputs": [],
   "source": [
    "final_df = pd.concat(dfs)"
   ]
  },
  {
   "cell_type": "code",
   "execution_count": 59,
   "id": "5ab24eab-ea5b-435d-bd0e-497f4a35b729",
   "metadata": {},
   "outputs": [],
   "source": [
    "final_df = final_df.fillna(0)"
   ]
  },
  {
   "cell_type": "code",
   "execution_count": 60,
   "id": "460b1120-4168-4fdd-b09e-ea499d847315",
   "metadata": {},
   "outputs": [],
   "source": [
    "final_df = final_df.astype('int')"
   ]
  },
  {
   "cell_type": "code",
   "execution_count": 61,
   "id": "b30999bc-4ea7-47e7-88db-e06acdb1cf11",
   "metadata": {},
   "outputs": [],
   "source": [
    "final_df.to_csv(\"recens_2006_2020.csv\", index=False)"
   ]
  },
  {
   "cell_type": "code",
   "execution_count": null,
   "id": "3a3a2f87-2c6d-4a99-a112-2241e81d5fd7",
   "metadata": {},
   "outputs": [],
   "source": []
  }
 ],
 "metadata": {
  "kernelspec": {
   "display_name": "Python 3 (ipykernel)",
   "language": "python",
   "name": "python3"
  },
  "language_info": {
   "codemirror_mode": {
    "name": "ipython",
    "version": 3
   },
   "file_extension": ".py",
   "mimetype": "text/x-python",
   "name": "python",
   "nbconvert_exporter": "python",
   "pygments_lexer": "ipython3",
   "version": "3.11.8"
  }
 },
 "nbformat": 4,
 "nbformat_minor": 5
}
